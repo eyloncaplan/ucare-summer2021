{
 "cells": [
  {
   "cell_type": "code",
   "execution_count": 1,
   "metadata": {},
   "outputs": [],
   "source": [
    "import numpy as np\n",
    "import math\n",
    "import tensorflow as tf\n",
    "%matplotlib inline\n",
    "import matplotlib.pyplot as plt"
   ]
  },
  {
   "cell_type": "code",
   "execution_count": 2,
   "metadata": {},
   "outputs": [],
   "source": [
    "noise_max = 0.3\n",
    "def make_xy_pair(shape):\n",
    "    y = np.round(np.random.rand(*shape))\n",
    "    noise = np.random.uniform(low=-noise_max/2, high=noise_max/2, size=(shape))\n",
    "    x = y - noise\n",
    "    return x, y"
   ]
  },
  {
   "cell_type": "code",
   "execution_count": 3,
   "metadata": {},
   "outputs": [],
   "source": [
    "def trapezoidIntegral(vals, ds):\n",
    "    pass1 = tf.reduce_sum(vals, axis=0)\n",
    "    pass2 = tf.reduce_sum(vals[1:-1], axis=0)\n",
    "    return ds/2.0*(pass1+pass2)\n",
    "def TFconv(image, filt, b):\n",
    "    return tf.nn.convolution(input=image, filters=filt, padding=\"SAME\") + b\n",
    "def leakyRelUInv(x):\n",
    "    shape = x.shape\n",
    "    zeros = tf.zeros(shape)\n",
    "    mask = tf.math.greater_equal(x, zeros)\n",
    "    weighted = x / leakyRelU_weight\n",
    "    return tf.where(mask, x, weighted)\n",
    "def uSoln(x0, inFilt, pFilt, b, y):\n",
    "    t1 = inFilt.shape[0]\n",
    "    ds = 1.0/(t1-1)\n",
    "    input_shape = x0.shape\n",
    "    bzero = tf.zeros([inFilt.shape[4]])\n",
    "    x = tf.TensorArray(tf.float32, size=0, dynamic_size=True, clear_after_read=False)\n",
    "    u = tf.TensorArray(tf.float32, size=0, dynamic_size=True, clear_after_read=False)\n",
    "    \n",
    "    with tf.GradientTape() as tape:\n",
    "        tape.watch(x0)\n",
    "        u0 = leakyRelUInv(x0)\n",
    "        u = u.write(0,TFconv(u0, inFilt[0], bzero))\n",
    "\n",
    "        for h in range(t1-1):\n",
    "            x = x.write(h, tf.nn.leaky_relu(u.read(h), alpha=leakyRelU_weight))\n",
    "            zInt = tf.TensorArray(tf.float32, size=0, dynamic_size=True)\n",
    "            for s in range(h+1):\n",
    "                zInt = zInt.write(s, TFconv(x.read(s), pFilt[s,h], b[h] / ((h+1)*ds)))\n",
    "            z = trapezoidIntegral(zInt.stack(), ds)\n",
    "            u = u.write(h+1, z + TFconv(u0, inFilt[h+1], bzero))\n",
    "        x = x.write(t1-1,tf.nn.leaky_relu(u.read(t1-1), alpha=leakyRelU_weight))\n",
    "        \n",
    "        loss = tf.math.square(x.read(t1-1) - y)\n",
    "        gradients = tape.gradient(loss, [pFilt, inFilt, b])\n",
    "        \n",
    "        return x.read(t1-1), tf.math.reduce_sum(loss), gradients\n",
    "def make_model(t0, input_shape, filter_shape):\n",
    "    t1 = t0+1\n",
    "\n",
    "    rng = np.random.default_rng(42)\n",
    "    iFilt = rng.standard_normal((t1,*filter_shape), dtype=np.float32)\n",
    "    paramFilt = rng.standard_normal((t1,t1,*filter_shape), dtype=np.float32)\n",
    "    biasVec = rng.standard_normal((t1,1), dtype=np.float32)\n",
    "    \n",
    "    TFiFiltTensor = tf.transpose(tf.compat.v1.get_variable(\"iFiltTensor\", initializer=iFilt), perm=[0,3,4,1,2])\n",
    "    TFiFilt = tf.Variable(TFiFiltTensor, name=\"iFilt\")\n",
    "    TFpFiltTensor = tf.transpose(tf.compat.v1.get_variable(\"pFiltTensor\", initializer=paramFilt), perm=[0,1,4,5,2,3])\n",
    "    TFpFilt = tf.Variable(TFpFiltTensor, name=\"pFilt\")\n",
    "    TFbiasVec = tf.compat.v1.get_variable(\"biasVec\", initializer=biasVec)\n",
    "    \n",
    "    return (TFiFilt, TFpFilt, TFbiasVec)\n",
    "def prepped_input(x):\n",
    "    return tf.expand_dims(tf.transpose(tf.convert_to_tensor(x, dtype=tf.float32), perm=[1,2,0]), 0)\n",
    "def prepped_output(y):\n",
    "    return tf.expand_dims(tf.transpose(tf.convert_to_tensor(y, dtype=tf.float32), perm=[1,2,0]), 0)\n",
    "def optimize(optimizer, xIn, iFilt, pFilt, bias, y):\n",
    "    output, loss, grad = TFuSoln(xIn, iFilt, pFilt, bias, y)\n",
    "    optimizer.apply_gradients(zip(grad, [pFilt, iFilt, bias]))\n",
    "    return loss"
   ]
  },
  {
   "cell_type": "code",
   "execution_count": 4,
   "metadata": {},
   "outputs": [],
   "source": [
    "TFuSoln = tf.function(uSoln)"
   ]
  },
  {
   "cell_type": "code",
   "execution_count": 32,
   "metadata": {},
   "outputs": [],
   "source": [
    "learning_rate = 0.01\n",
    "leakyRelU_weight = 0.1\n",
    "opt = tf.keras.optimizers.Adam(learning_rate)\n",
    "input_shape = (1,28,28)\n",
    "filter_shape = (1,1,5,5)\n",
    "t0 = 5\n",
    "\n",
    "model = make_model(t0, input_shape, filter_shape)\n",
    "y = prepped_output(np.random.rand(*input_shape).astype(np.float32))\n",
    "\n",
    "\n",
    "iterations = 10000\n",
    "losses = []\n",
    "for i in np.arange(iterations):\n",
    "    npx, npy = make_xy_pair(input_shape)\n",
    "    x = prepped_input(npx.astype(np.float32))\n",
    "    y = prepped_output(npy.astype(np.float32))\n",
    "    losses.append(optimize(opt, x, *model, y))"
   ]
  },
  {
   "cell_type": "code",
   "execution_count": 36,
   "metadata": {
    "scrolled": true
   },
   "outputs": [
    {
     "data": {
      "text/plain": [
       "(-1.0, 5.0)"
      ]
     },
     "execution_count": 36,
     "metadata": {},
     "output_type": "execute_result"
    },
    {
     "data": {
      "image/png": "[encoded data removed]",
      "text/plain": [
       "<Figure size 432x288 with 1 Axes>"
      ]
     },
     "metadata": {
      "needs_background": "light"
     },
     "output_type": "display_data"
    }
   ],
   "source": [
    "plt.plot(losses, \"go\", ms=2)\n",
    "plt.title(\"Loss Over Time-->learning_rate=0.01\", fontsize=16)\n",
    "plt.xlabel(\"Iterations\", fontsize=14)\n",
    "plt.ylabel(\"Simple Sum Loss\", fontsize=14)\n",
    "plt.ylim(-1,5)"
   ]
  },
  {
   "cell_type": "code",
   "execution_count": 35,
   "metadata": {},
   "outputs": [
    {
     "data": {
      "text/plain": [
       "<tf.Tensor: shape=(), dtype=float32, numpy=2.5541828>"
      ]
     },
     "execution_count": 35,
     "metadata": {},
     "output_type": "execute_result"
    }
   ],
   "source": [
    "losses[-1]"
   ]
  },
  {
   "cell_type": "code",
   "execution_count": null,
   "metadata": {},
   "outputs": [],
   "source": []
  },
  {
   "cell_type": "code",
   "execution_count": null,
   "metadata": {},
   "outputs": [],
   "source": []
  },
  {
   "cell_type": "code",
   "execution_count": null,
   "metadata": {},
   "outputs": [],
   "source": []
  },
  {
   "cell_type": "code",
   "execution_count": null,
   "metadata": {},
   "outputs": [],
   "source": []
  },
  {
   "cell_type": "code",
   "execution_count": null,
   "metadata": {},
   "outputs": [],
   "source": [
    "\n"
   ]
  },
  {
   "cell_type": "code",
   "execution_count": null,
   "metadata": {},
   "outputs": [],
   "source": []
  },
  {
   "cell_type": "code",
   "execution_count": null,
   "metadata": {},
   "outputs": [],
   "source": []
  },
  {
   "cell_type": "code",
   "execution_count": null,
   "metadata": {},
   "outputs": [],
   "source": []
  },
  {
   "cell_type": "code",
   "execution_count": null,
   "metadata": {},
   "outputs": [],
   "source": []
  },
  {
   "cell_type": "code",
   "execution_count": null,
   "metadata": {},
   "outputs": [],
   "source": []
  }
 ],
 "metadata": {
  "kernelspec": {
   "display_name": "Python 3",
   "language": "python",
   "name": "python3"
  },
  "language_info": {
   "codemirror_mode": {
    "name": "ipython",
    "version": 3
   },
   "file_extension": ".py",
   "mimetype": "text/x-python",
   "name": "python",
   "nbconvert_exporter": "python",
   "pygments_lexer": "ipython3",
   "version": "3.8.3"
  }
 },
 "nbformat": 4,
 "nbformat_minor": 4
}
