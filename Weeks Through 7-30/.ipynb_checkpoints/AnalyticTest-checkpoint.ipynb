{
 "cells": [
  {
   "cell_type": "code",
   "execution_count": 1,
   "metadata": {},
   "outputs": [],
   "source": [
    "import numpy as np\n",
    "import math\n",
    "import tensorflow as tf\n",
    "%matplotlib inline\n",
    "import matplotlib.pyplot as plt"
   ]
  },
  {
   "cell_type": "code",
   "execution_count": 2,
   "metadata": {},
   "outputs": [],
   "source": [
    "noise_max = 0.3\n",
    "def make_xy_pair(shape):\n",
    "    y = np.round(np.random.rand(*shape))\n",
    "    noise = np.random.uniform(low=-noise_max/2, high=noise_max/2, size=(shape))\n",
    "    x = y - noise\n",
    "    return x, y"
   ]
  },
  {
   "cell_type": "code",
   "execution_count": 155,
   "metadata": {},
   "outputs": [],
   "source": [
    "def trapezoidIntegral(vals, ds):\n",
    "    pass1 = tf.reduce_sum(vals, axis=0)\n",
    "    pass2 = tf.reduce_sum(vals[1:-1], axis=0)\n",
    "    return ds/2.0*(pass1+pass2)\n",
    "def TFconv(image, filt, b):\n",
    "    return tf.nn.convolution(input=image, filters=filt, padding=\"SAME\") + b\n",
    "def leakyRelUInv(x):\n",
    "    shape = x.shape\n",
    "    zeros = tf.zeros(shape)\n",
    "    mask = tf.math.greater_equal(x, zeros)\n",
    "    weighted = x / leakyRelU_weight\n",
    "    return tf.where(mask, x, weighted)\n",
    "def uSoln(x0, inFilt, pFilt, b, y):\n",
    "    t1 = inFilt.shape[0]\n",
    "    ds = 1.0/(t1-1)\n",
    "    input_shape = x0.shape\n",
    "    bzero = tf.zeros([inFilt.shape[4]])\n",
    "    x = tf.TensorArray(tf.float32, size=0, dynamic_size=True, clear_after_read=False)\n",
    "    u = tf.TensorArray(tf.float32, size=0, dynamic_size=True, clear_after_read=False)\n",
    "    \n",
    "    with tf.GradientTape() as tape:\n",
    "        tape.watch(x0)\n",
    "        u0 = leakyRelUInv(x0)\n",
    "        u = u.write(0,TFconv(u0, inFilt[0], bzero))\n",
    "\n",
    "        for h in range(t1-1):\n",
    "            x = x.write(h, tf.nn.leaky_relu(u.read(h), alpha=leakyRelU_weight))\n",
    "            zInt = tf.TensorArray(tf.float32, size=0, dynamic_size=True)\n",
    "            for s in range(h+1):\n",
    "                zInt = zInt.write(s, TFconv(x.read(s), pFilt[s,h], b[h] / ((h+1)*ds)))\n",
    "            z = trapezoidIntegral(zInt.stack(), ds)\n",
    "            u = u.write(h+1, z + TFconv(u0, inFilt[h+1], bzero))\n",
    "        x = x.write(t1-1,tf.nn.leaky_relu(u.read(t1-1), alpha=leakyRelU_weight))\n",
    "        \n",
    "        loss = tf.math.square(x.read(t1-1) - y)\n",
    "        gradients = tape.gradient(loss, [pFilt, inFilt, b])\n",
    "        \n",
    "        return x.read(t1-1), tf.math.reduce_sum(loss), gradients\n",
    "def make_model(t0, input_shape, filter_shape):\n",
    "    t1 = t0+1\n",
    "\n",
    "    rng = np.random.default_rng(42)\n",
    "    iFilt = rng.standard_normal((t1,*filter_shape), dtype=np.float32)\n",
    "    #paramFilt = rng.standard_normal((t1,t1,*filter_shape), dtype=np.float32)\n",
    "    p0 = np.array([[0.7,0.4,0.8,0.8,0.55],[0.35,0.3,0.25,0.2,0.45],[0.1,0.9,0.65,0.1,0.35],[0.2,0.15,0.95,0.65,0.9],[0.05,0.8,0.9,0.5,0.1]])\n",
    "    p1 = np.expand_dims(p,(2,3,4,5)).astype(np.float32)\n",
    "    biasVec = rng.uniform(0,1,(t1,1)).astype(dtype=np.float32)\n",
    "    \n",
    "    TFiFiltTensor = tf.transpose(tf.compat.v1.get_variable(\"iFiltTensor\", initializer=iFilt), perm=[0,3,4,1,2])\n",
    "    TFiFilt = tf.Variable(TFiFiltTensor, name=\"iFilt\")\n",
    "    TFpFiltTensor = tf.transpose(tf.compat.v1.get_variable(\"pFiltTensor\", initializer=p1), perm=[0,1,4,5,2,3])\n",
    "    TFpFilt = tf.Variable(TFpFiltTensor, name=\"pFilt\")\n",
    "    TFbiasVec = tf.compat.v1.get_variable(\"biasVec\", initializer=biasVec)\n",
    "    \n",
    "    return (TFiFilt, TFpFilt, TFbiasVec)\n",
    "def prepped_input(x):\n",
    "    return tf.expand_dims(tf.transpose(tf.convert_to_tensor(x, dtype=tf.float32), perm=[1,2,0]), 0)\n",
    "def prepped_output(y):\n",
    "    return tf.expand_dims(tf.transpose(tf.convert_to_tensor(y, dtype=tf.float32), perm=[1,2,0]), 0)\n",
    "def optimize(optimizer, xIn, iFilt, pFilt, bias, y):\n",
    "    output, loss, grad = TFuSoln(xIn, iFilt, pFilt, bias, y)\n",
    "    optimizer.apply_gradients(zip(grad, [pFilt, iFilt, bias]))\n",
    "    return loss"
   ]
  },
  {
   "cell_type": "code",
   "execution_count": 4,
   "metadata": {},
   "outputs": [],
   "source": [
    "TFuSoln = tf.function(uSoln)"
   ]
  },
  {
   "cell_type": "code",
   "execution_count": 156,
   "metadata": {},
   "outputs": [],
   "source": [
    "learning_rate = 0.01\n",
    "leakyRelU_weight = 0.1\n",
    "opt = tf.keras.optimizers.Adam(learning_rate)\n",
    "input_shape = (1,1,1)\n",
    "filter_shape = (1,1,1,1)\n",
    "t0 = 4\n",
    "\n",
    "model = make_model(t0, input_shape, filter_shape)\n",
    "#y = prepped_output(np.random.rand(*input_shape).astype(np.float32))\n",
    "\n",
    "\n",
    "iterations = 200\n",
    "losses = []\n",
    "for i in np.arange(iterations):\n",
    "    #npx, npy = make_xy_pair(input_shape)\n",
    "    #x = prepped_input(npx.astype(np.float32))\n",
    "    #y = prepped_output(npy.astype(np.float32))\n",
    "    x = tf.zeros((1,1,1,1))\n",
    "    y = tf.ones((1,1,1,1))\n",
    "    losses.append(optimize(opt, x, *model, y))"
   ]
  },
  {
   "cell_type": "code",
   "execution_count": 157,
   "metadata": {
    "scrolled": true
   },
   "outputs": [
    {
     "data": {
      "text/plain": [
       "Text(0, 0.5, 'Simple Sum Loss')"
      ]
     },
     "execution_count": 157,
     "metadata": {},
     "output_type": "execute_result"
    },
    {
     "data": {
      "image/png": "[encoded data removed]",
      "text/plain": [
       "<Figure size 432x288 with 1 Axes>"
      ]
     },
     "metadata": {
      "needs_background": "light"
     },
     "output_type": "display_data"
    }
   ],
   "source": [
    "plt.plot(losses, \"go\", ms=2)\n",
    "plt.title(\"Loss Over Time-->learning_rate=0.01\", fontsize=16)\n",
    "plt.xlabel(\"Iterations\", fontsize=14)\n",
    "plt.ylabel(\"Simple Sum Loss\", fontsize=14)\n",
    "#plt.ylim(-1,5)"
   ]
  },
  {
   "cell_type": "code",
   "execution_count": 158,
   "metadata": {},
   "outputs": [
    {
     "data": {
      "text/plain": [
       "<tf.Tensor: shape=(), dtype=float32, numpy=4.456524e-11>"
      ]
     },
     "execution_count": 158,
     "metadata": {},
     "output_type": "execute_result"
    }
   ],
   "source": [
    "losses[-1]"
   ]
  },
  {
   "cell_type": "code",
   "execution_count": 15,
   "metadata": {},
   "outputs": [],
   "source": [
    "p = np.array([[0.7,0.4,0.8,0.8,0.55],[0.35,0.3,0.25,0.2,0.45],[0.1,0.9,0.65,0.1,0.35],[0.2,0.15,0.95,0.65,0.9],[0.05,0.8,0.9,0.5,0.1]])"
   ]
  },
  {
   "cell_type": "code",
   "execution_count": 100,
   "metadata": {},
   "outputs": [],
   "source": [
    "def trapInt(pFilt):\n",
    "    b = []\n",
    "    for i in np.arange(len(pFilt)):\n",
    "        sum1 = 0\n",
    "        sum2 = 0\n",
    "        for j in np.arange(i+1):\n",
    "            sum1 += pFilt[j,i]*func(j*0.25)\n",
    "            if(j != 0 and j != i):\n",
    "                sum2 += pFilt[j,i]*func(j*0.25)\n",
    "        sum = sum1 + sum2\n",
    "        integral = 0.25*0.5*sum\n",
    "        b.append(func(i*0.25)-integral)\n",
    "    return b"
   ]
  },
  {
   "cell_type": "code",
   "execution_count": 20,
   "metadata": {},
   "outputs": [],
   "source": [
    "def func(x):\n",
    "    return x*x"
   ]
  },
  {
   "cell_type": "code",
   "execution_count": 101,
   "metadata": {},
   "outputs": [],
   "source": [
    "a = trapInt(p)"
   ]
  },
  {
   "cell_type": "code",
   "execution_count": 97,
   "metadata": {},
   "outputs": [
    {
     "data": {
      "text/plain": [
       "[0.0, 0.06015625, 0.22578125, 0.507421875, 0.83203125]"
      ]
     },
     "execution_count": 97,
     "metadata": {},
     "output_type": "execute_result"
    }
   ],
   "source": [
    "a"
   ]
  },
  {
   "cell_type": "code",
   "execution_count": 159,
   "metadata": {},
   "outputs": [
    {
     "name": "stdout",
     "output_type": "stream",
     "text": [
      "b\n",
      " [[1.0180705]\n",
      " [0.4205083]\n",
      " [1.2830153]\n",
      " [1.059206 ]\n",
      " [0.7860643]]\n"
     ]
    }
   ],
   "source": [
    "#print(\"inFilter\\n\", model[0].numpy())\n",
    "#print(\"paramFilter\\n\", model[1].numpy())\n",
    "print(\"b\\n\", model[2].numpy())"
   ]
  },
  {
   "cell_type": "code",
   "execution_count": 145,
   "metadata": {},
   "outputs": [
    {
     "data": {
      "text/plain": [
       "<tf.Tensor: shape=(1, 1, 1, 1), dtype=float32, numpy=array([[[[0.88221925]]]], dtype=float32)>"
      ]
     },
     "execution_count": 145,
     "metadata": {},
     "output_type": "execute_result"
    }
   ],
   "source": [
    "out, loss, grad = TFuSoln(tf.constant([[[[0.25]]]], dtype=tf.float32), *model, tf.ones((1,1,1,1)))\n",
    "out"
   ]
  },
  {
   "cell_type": "code",
   "execution_count": null,
   "metadata": {},
   "outputs": [],
   "source": []
  },
  {
   "cell_type": "code",
   "execution_count": null,
   "metadata": {},
   "outputs": [],
   "source": []
  },
  {
   "cell_type": "code",
   "execution_count": null,
   "metadata": {},
   "outputs": [],
   "source": []
  }
 ],
 "metadata": {
  "kernelspec": {
   "display_name": "Python 3",
   "language": "python",
   "name": "python3"
  },
  "language_info": {
   "codemirror_mode": {
    "name": "ipython",
    "version": 3
   },
   "file_extension": ".py",
   "mimetype": "text/x-python",
   "name": "python",
   "nbconvert_exporter": "python",
   "pygments_lexer": "ipython3",
   "version": "3.8.3"
  }
 },
 "nbformat": 4,
 "nbformat_minor": 4
}
