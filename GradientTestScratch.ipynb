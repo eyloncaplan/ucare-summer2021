{
 "cells": [
  {
   "cell_type": "code",
   "execution_count": 1,
   "metadata": {},
   "outputs": [],
   "source": [
    "import numpy as np\n",
    "import math\n",
    "import tensorflow as tf\n",
    "%matplotlib inline\n",
    "import matplotlib.pyplot as plt"
   ]
  },
  {
   "cell_type": "code",
   "execution_count": 28,
   "metadata": {},
   "outputs": [
    {
     "name": "stdout",
     "output_type": "stream",
     "text": [
      "tf.Tensor([49.], shape=(1,), dtype=float32)\n",
      "[<tf.Tensor: shape=(1,), dtype=float32, numpy=array([-14.], dtype=float32)>]\n"
     ]
    }
   ],
   "source": [
    "opt = tf.keras.optimizers.Adam(0.25)\n",
    "x = tf.Variable(tf.convert_to_tensor([7], dtype=tf.float32))\n",
    "\n",
    "with tf.GradientTape() as tape:\n",
    "    y = x**2\n",
    "    print(y)\n",
    "    exp = tf.convert_to_tensor([26], dtype=tf.float32)\n",
    "    loss = exp - y\n",
    "    grad = tape.gradient(loss, [x])\n",
    "    print(grad)"
   ]
  },
  {
   "cell_type": "code",
   "execution_count": null,
   "metadata": {},
   "outputs": [],
   "source": []
  }
 ],
 "metadata": {
  "kernelspec": {
   "display_name": "Python 3",
   "language": "python",
   "name": "python3"
  },
  "language_info": {
   "codemirror_mode": {
    "name": "ipython",
    "version": 3
   },
   "file_extension": ".py",
   "mimetype": "text/x-python",
   "name": "python",
   "nbconvert_exporter": "python",
   "pygments_lexer": "ipython3",
   "version": "3.8.3"
  }
 },
 "nbformat": 4,
 "nbformat_minor": 4
}
