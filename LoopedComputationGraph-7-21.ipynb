{
 "cells": [
  {
   "cell_type": "code",
   "execution_count": 1,
   "metadata": {},
   "outputs": [],
   "source": [
    "import numpy as np\n",
    "import math\n",
    "import tensorflow as tf"
   ]
  },
  {
   "cell_type": "code",
   "execution_count": 2,
   "metadata": {},
   "outputs": [],
   "source": [
    "def trapezoidIntegral(vals, ds):\n",
    "    pass1 = tf.reduce_sum(vals, axis=0)\n",
    "    pass2 = tf.reduce_sum(vals[1:-1], axis=0)\n",
    "    return ds/2.0*(pass1+pass2)\n",
    "def TFconv(image, filt, b):\n",
    "    return tf.nn.convolution(input=image, filters=filt, padding=\"SAME\") + b"
   ]
  },
  {
   "cell_type": "code",
   "execution_count": 108,
   "metadata": {},
   "outputs": [],
   "source": [
    "def loopTFuSoln(raw_u0, ds, inFilt, pFilt, b):\n",
    "    t1 = inFilt.shape[0]\n",
    "    input_shape = raw_u0.shape\n",
    "    bzero = tf.zeros([inFilt.shape[4]])\n",
    "    u = tf.Variable(tf.zeros((t1,*input_shape)))\n",
    "    x = tf.Variable(tf.zeros((t1,*input_shape)))\n",
    "    u[0].assign(TFconv(raw_u0, inFilt[0], bzero))\n",
    "    \n",
    "    for h in range(t1-1):\n",
    "        x[h].assign(tf.nn.leaky_relu(u[h], alpha=0.1))\n",
    "        zInt = tf.Variable(tf.zeros((h+1,*input_shape)))\n",
    "        for s in range(h+1):\n",
    "            zInt[s].assign(TFconv(x[s], pFilt[s,h], b[h] / ((h+1)*ds)))\n",
    "        z = trapezoidIntegral(zInt, ds)\n",
    "        u[h+1].assign(z + TFconv(raw_u0, inFilt[h+1], bzero))\n",
    "    x[-1].assign(tf.nn.leaky_relu(u[-1], alpha=0.1))\n",
    "    \n",
    "    return x,u "
   ]
  },
  {
   "cell_type": "code",
   "execution_count": 102,
   "metadata": {},
   "outputs": [],
   "source": [
    "def TFuSoln(raw_u0, ds, inFilt, pFilt, b):\n",
    "    bzero = tf.zeros([inFilt.shape[4]])\n",
    "    u0 = TFconv(raw_u0, inFilt[0], bzero)\n",
    "    #for loop begins, h=0\n",
    "    x0 = tf.nn.leaky_relu(u0, alpha=0.1)\n",
    "    zInt0 = TFconv(x0, pFilt[0,0], b[0] / ((0+1)*ds))\n",
    "    #print(zInt0)\n",
    "    z0 = trapezoidIntegral(zInt0, ds)\n",
    "    u1 = z0 + TFconv(raw_u0, inFilt[1], bzero)\n",
    "    #h=1\n",
    "    x1 = tf.nn.leaky_relu(u1, alpha=0.1)\n",
    "    zInt1_0 = TFconv(x0, pFilt[0,1], b[1] / ((1+1)*ds)) #s=0\n",
    "    zInt1_1 = TFconv(x1, pFilt[1,1], b[1] / ((1+1)*ds)) #s=1\n",
    "    #zInt1 = zInt1_0 + zInt1_1\n",
    "    zInt1 = tf.stack([zInt1_0, zInt1_1])\n",
    "    z1 = trapezoidIntegral(zInt1, ds)\n",
    "    u2 = z1 + TFconv(raw_u0, inFilt[2], bzero)\n",
    "    #h=2\n",
    "    x2 = tf.nn.leaky_relu(u2, alpha=0.1)#\n",
    "    zInt2_0 = TFconv(x0, pFilt[0,2], b[2] / ((2+1)*ds)) #s=0\n",
    "    zInt2_1 = TFconv(x1, pFilt[1,2], b[2] / ((2+1)*ds)) #s=1\n",
    "    zInt2_2 = TFconv(x2, pFilt[2,2], b[2] / ((2+1)*ds)) #s=2\n",
    "    #zInt2 = zInt2_0 + zInt2_1 + zInt2_2\n",
    "    zInt2 = tf.stack([zInt2_0, zInt2_1, zInt2_2])\n",
    "    z2 = trapezoidIntegral(zInt2, ds)#\n",
    "    u3 = z2 + TFconv(raw_u0, inFilt[3], bzero)\n",
    "    #h=3\n",
    "    x3 = tf.nn.leaky_relu(u3, alpha=0.1)\n",
    "    zInt3_0 = TFconv(x0, pFilt[0,3], b[3] / ((3+1)*ds)) #s=0\n",
    "    zInt3_1 = TFconv(x1, pFilt[1,3], b[3] / ((3+1)*ds)) #s=1\n",
    "    zInt3_2 = TFconv(x2, pFilt[2,3], b[3] / ((3+1)*ds)) #s=2\n",
    "    zInt3_3 = TFconv(x3, pFilt[3,3], b[3] / ((3+1)*ds)) #s=3\n",
    "    #zInt3 = zInt3_0 + zInt3_1 + zInt3_2 + zInt3_3\n",
    "    zInt3 = tf.stack([zInt3_0, zInt3_1, zInt3_2, zInt3_3])\n",
    "    z3 = trapezoidIntegral(zInt3, ds)\n",
    "    u4 = z3 + TFconv(raw_u0, inFilt[4], bzero)\n",
    "    #end loop\n",
    "    x4 = tf.nn.leaky_relu(u4, alpha=0.1)\n",
    "    \n",
    "    #print(\"z with h=0\", z0)\n",
    "    #print(\"z with h=1\", z1)\n",
    "    #print(\"z with h=2\", z2)\n",
    "    #print(\"z with h=3\", z3)\n",
    "    \n",
    "    x = tf.stack([x0,x1,x2,x3,x4])\n",
    "    u = tf.stack([u0,u1,u2,u3,u4])\n",
    "    \n",
    "    return x,u"
   ]
  },
  {
   "cell_type": "code",
   "execution_count": 85,
   "metadata": {},
   "outputs": [],
   "source": [
    "t0 = 4\n",
    "t1 = t0+1\n",
    "dt = 1.0/t0\n",
    "input_shape = (1,5,5)\n",
    "filter_shape = (1,1,3,3)\n",
    "\n",
    "\n",
    "\n",
    "actWt = [.1, 1] #leakyRelU: first number is slope left of origin, second number is slope right of origin\n",
    "\n",
    "np.set_printoptions(suppress=True)\n",
    "rng = np.random.default_rng(42)\n",
    "uIn = rng.standard_normal(input_shape, dtype=np.float32)\n",
    "iFilt = rng.standard_normal((t1,*filter_shape), dtype=np.float32)\n",
    "paramFilt = rng.standard_normal((t1,t1,*filter_shape), dtype=np.float32)\n",
    "biasVec = rng.standard_normal((t1,1), dtype=np.float32)\n",
    "\n",
    "#xOut, uOut = uSoln(uIn, dt, iFilt, paramFilt, biasVec)\n",
    "#print(xOut)"
   ]
  },
  {
   "cell_type": "code",
   "execution_count": 103,
   "metadata": {},
   "outputs": [
    {
     "name": "stdout",
     "output_type": "stream",
     "text": [
      "tf.Tensor(\n",
      "[[[[[ 0.9516136   2.435678   -0.3856678  -1.6703204   0.00031823]\n",
      "    [ 2.8851762   2.1393359  -3.9642057  -1.1248233   0.65912706]\n",
      "    [ 0.5324     -2.6901844   0.19213542  1.9467492   0.17811385]\n",
      "    [-3.6203117   1.7217662   4.8276005   2.2568848  -2.2175238 ]\n",
      "    [ 0.72034025  0.01188321  0.37456763 -2.4593573  -0.16356802]]]\n",
      "\n",
      "\n",
      "  [[[-2.9307792  -1.2281874  -3.417582   -1.8477119   2.026555  ]\n",
      "    [-2.9081187  -1.6186329   2.366631    5.005061   -0.46067193]\n",
      "    [-0.9149097  -3.2843504   5.979022    2.6312397  -0.51302314]\n",
      "    [ 2.1489542   4.835612   -8.582668   -4.3518667  -1.8402613 ]\n",
      "    [-0.5486518  -1.8495516   0.8251563   2.3737555   5.4625373 ]]]\n",
      "\n",
      "\n",
      "  [[[ 1.192028    6.2110214   3.1337578  -0.8437642  -1.5232902 ]\n",
      "    [-7.1727448  -5.9361267   0.54477304  2.7715528   1.641727  ]\n",
      "    [-1.3377907  -4.409808   -2.7376275   4.135856    2.1630063 ]\n",
      "    [ 1.0291543   2.04671     2.0405087   1.282228   -0.43683746]\n",
      "    [-2.746736   -0.38681155 -2.9954038  -1.8713902  -1.3236265 ]]]\n",
      "\n",
      "\n",
      "  [[[ 0.19346285  2.5215058  -1.8850675   1.843653    2.6984532 ]\n",
      "    [ 9.104539   -0.782249    0.7237961   2.091009    2.4670005 ]\n",
      "    [-2.9704118   4.9803743  -0.58939445  5.355578    1.5882227 ]\n",
      "    [ 3.5478737  -0.23832458  4.15639     2.4942226   4.961717  ]\n",
      "    [ 0.34455186  3.4970636   2.6319675   2.3163526   1.1703371 ]]]\n",
      "\n",
      "\n",
      "  [[[-3.1823459   0.9373574  -0.65630126 -0.39697027 -1.4597667 ]\n",
      "    [ 2.1348872  -2.9206347   1.6737801  -1.5529721  -3.4938354 ]\n",
      "    [-3.2820647  -2.0460944  -6.8340425  -5.113887   -3.636891  ]\n",
      "    [-7.2847447  -7.217088   -5.589896   -4.399364    2.3871841 ]\n",
      "    [-4.581561   -5.32955    -1.0203403  -3.2202666   0.00168133]]]]], shape=(1, 5, 1, 5, 5), dtype=float32)\n"
     ]
    }
   ],
   "source": [
    "TFuIn = tf.expand_dims(tf.transpose(tf.convert_to_tensor(uIn, dtype=tf.float32), perm=[1,2,0]), 0)\n",
    "TFiFilt = tf.transpose(tf.convert_to_tensor(iFilt, dtype=tf.float32), perm=[0,3,4,1,2])\n",
    "TFpFilt = tf.transpose(tf.convert_to_tensor(paramFilt, dtype=tf.float32), perm=[0,1,4,5,2,3])\n",
    "TFbiasVec = tf.convert_to_tensor(biasVec, dtype=tf.float32)\n",
    "\n",
    "TFxOut, TFuOut = TFuSoln(TFuIn, dt, TFiFilt, TFpFilt, TFbiasVec)\n",
    "print(tf.transpose(TFuOut, perm=[4,0,1,2,3]))"
   ]
  },
  {
   "cell_type": "code",
   "execution_count": 107,
   "metadata": {},
   "outputs": [
    {
     "name": "stdout",
     "output_type": "stream",
     "text": [
      "(1, 5, 5, 1)\n",
      "tf.Tensor(\n",
      "[[[[[ 0.9516136   2.435678   -0.3856678  -1.6703204   0.00031823]\n",
      "    [ 2.8851762   2.1393359  -3.9642057  -1.1248233   0.65912706]\n",
      "    [ 0.5324     -2.6901844   0.19213542  1.9467492   0.17811385]\n",
      "    [-3.6203117   1.7217662   4.8276005   2.2568848  -2.2175238 ]\n",
      "    [ 0.72034025  0.01188321  0.37456763 -2.4593573  -0.16356802]]]\n",
      "\n",
      "\n",
      "  [[[-2.9307792  -1.2281874  -3.417582   -1.8477119   2.026555  ]\n",
      "    [-2.9081187  -1.6186329   2.366631    5.005061   -0.46067193]\n",
      "    [-0.9149097  -3.2843504   5.979022    2.6312397  -0.51302314]\n",
      "    [ 2.1489542   4.835612   -8.582668   -4.3518667  -1.8402613 ]\n",
      "    [-0.5486518  -1.8495516   0.8251563   2.3737555   5.4625373 ]]]\n",
      "\n",
      "\n",
      "  [[[ 1.192028    6.2110214   3.1337578  -0.8437642  -1.5232902 ]\n",
      "    [-7.1727448  -5.9361267   0.54477304  2.7715528   1.641727  ]\n",
      "    [-1.3377907  -4.409808   -2.7376275   4.135856    2.1630063 ]\n",
      "    [ 1.0291543   2.04671     2.0405087   1.282228   -0.43683746]\n",
      "    [-2.746736   -0.38681155 -2.9954038  -1.8713902  -1.3236265 ]]]\n",
      "\n",
      "\n",
      "  [[[ 0.19346285  2.5215058  -1.8850675   1.843653    2.6984532 ]\n",
      "    [ 9.104539   -0.782249    0.7237961   2.091009    2.4670005 ]\n",
      "    [-2.9704118   4.9803743  -0.58939445  5.355578    1.5882227 ]\n",
      "    [ 3.5478737  -0.23832458  4.15639     2.4942226   4.961717  ]\n",
      "    [ 0.34455186  3.4970636   2.6319675   2.3163526   1.1703371 ]]]\n",
      "\n",
      "\n",
      "  [[[-3.1823459   0.9373574  -0.65630126 -0.39697027 -1.4597667 ]\n",
      "    [ 2.1348872  -2.9206347   1.6737801  -1.5529721  -3.4938354 ]\n",
      "    [-3.2820647  -2.0460944  -6.8340425  -5.113887   -3.636891  ]\n",
      "    [-7.2847447  -7.217088   -5.589896   -4.399364    2.3871841 ]\n",
      "    [-4.581561   -5.32955    -1.0203403  -3.2202666   0.00168133]]]]], shape=(1, 5, 1, 5, 5), dtype=float32)\n"
     ]
    }
   ],
   "source": [
    "loopTFxOut, loopTFuOut = loopTFuSoln(TFuIn, dt, TFiFilt, TFpFilt, TFbiasVec)\n",
    "print(tf.transpose(loopTFuOut, perm=[4,0,1,2,3]))"
   ]
  },
  {
   "cell_type": "code",
   "execution_count": null,
   "metadata": {},
   "outputs": [],
   "source": []
  },
  {
   "cell_type": "code",
   "execution_count": null,
   "metadata": {},
   "outputs": [],
   "source": []
  },
  {
   "cell_type": "code",
   "execution_count": null,
   "metadata": {},
   "outputs": [],
   "source": []
  }
 ],
 "metadata": {
  "kernelspec": {
   "display_name": "Python 3",
   "language": "python",
   "name": "python3"
  },
  "language_info": {
   "codemirror_mode": {
    "name": "ipython",
    "version": 3
   },
   "file_extension": ".py",
   "mimetype": "text/x-python",
   "name": "python",
   "nbconvert_exporter": "python",
   "pygments_lexer": "ipython3",
   "version": "3.8.3"
  }
 },
 "nbformat": 4,
 "nbformat_minor": 4
}
