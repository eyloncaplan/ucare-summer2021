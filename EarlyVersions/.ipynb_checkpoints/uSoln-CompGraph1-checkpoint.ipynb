{
 "cells": [
  {
   "cell_type": "code",
   "execution_count": 1,
   "metadata": {},
   "outputs": [],
   "source": [
    "import numpy as np\n",
    "import tensorflow as tf\n",
    "import keras"
   ]
  },
  {
   "cell_type": "code",
   "execution_count": 90,
   "metadata": {},
   "outputs": [],
   "source": [
    "def uSoln(raw_u0, ds, inFilt, pFilt, b):\n",
    "    bzero = tf.zeros([inFilt.shape[4]])\n",
    "    u0 = conv(raw_u0, inFilt[0], bzero)\n",
    "    #for loop begins, h=0\n",
    "    x0 = tf.nn.leaky_relu(u0, alpha=0.1)\n",
    "    zInt0 = conv(x0, pFilt[0,0], b[0] / ((0+1)*ds))\n",
    "    z0 = trapezoidIntegral(zInt0, ds)\n",
    "    u1 = z0 + conv(raw_u0, inFilt[1], bzero)\n",
    "    #for loop begins, h=1\n",
    "    x1 = tf.nn.leaky_relu(u1, alpha=0.1)\n",
    "    zInt1_0 = conv(x0, pFilt[0,1], b[1] / ((1+1)*ds)) #s=0\n",
    "    zInt1_1 = conv(x1, pFilt[1,1], b[1] / ((1+1)*ds)) #s=1\n",
    "    zInt1 = zInt1_0 + zInt1_1\n",
    "    z1 = trapezoidIntegral(zInt1, ds)\n",
    "    u2 = z1 + conv(raw_u0, inFilt[2], bzero)\n",
    "    #for loop begins, h=2\n",
    "    x2 = tf.nn.leaky_relu(u2, alpha=0.1)\n",
    "    zInt2_0 = conv(x0, pFilt[0,2], b[2] / ((2+1)*ds)) #s=0\n",
    "    zInt2_1 = conv(x1, pFilt[1,2], b[2] / ((2+1)*ds)) #s=1\n",
    "    zInt2_2 = conv(x2, pFilt[2,2], b[2] / ((2+1)*ds)) #s=2\n",
    "    zInt2 = zInt2_0 + zInt2_1 + zInt2_2\n",
    "    z2 = trapezoidIntegral(zInt2, ds)\n",
    "    u3 = z2 + conv(raw_u0, inFilt[3], bzero)\n",
    "    #end loop\n",
    "    x3 = tf.nn.leaky_relu(u3, alpha=0.1)\n",
    "    \n",
    "    x = tf.stack([x0,x1,x2,x3])\n",
    "    u = tf.stack([u0,u1,u2,u3])\n",
    "    \n",
    "    return x,u\n"
   ]
  },
  {
   "cell_type": "code",
   "execution_count": 84,
   "metadata": {},
   "outputs": [],
   "source": [
    "def trapezoidIntegral(vals, ds):\n",
    "    pass1 = tf.reduce_sum(vals, axis=0)\n",
    "    pass2 = tf.reduce_sum(vals[1:-1], axis=0)\n",
    "    return ds/2.0*(pass1+pass2)\n",
    "def conv(image, filt, b):\n",
    "    return tf.nn.convolution(input=image, filters=filt, padding=\"SAME\") + b"
   ]
  },
  {
   "cell_type": "code",
   "execution_count": 88,
   "metadata": {},
   "outputs": [],
   "source": [
    "t1 = 11\n",
    "dt = 1/10.0\n",
    "uIn = tf.random.uniform([1,5,5,1]) #batch size (1), input spatial shape, in-channels\n",
    "iFilt = tf.random.uniform([t1,3,3,1,1]) #time steps, spatial shape, in-channels, out-channels\n",
    "pFilt = tf.random.uniform([t1,t1,3,3,1,1]) #layer from, layer to (maybe reversed), spatial shape, in-channels, out-channels\n",
    "b = tf.ones([t1,1])\n",
    "a,b = uSoln(uIn, dt, iFilt, pFilt, b)\n",
    "\n",
    "\n"
   ]
  },
  {
   "cell_type": "code",
   "execution_count": null,
   "metadata": {},
   "outputs": [],
   "source": [
    "x = tf.random.normal([4,1,5,5])\n",
    "#print(x, \"\\n-----------------------\")\n",
    "#print(trapezoidIntegral(x, 0.1))"
   ]
  },
  {
   "cell_type": "code",
   "execution_count": null,
   "metadata": {},
   "outputs": [],
   "source": [
    "x = tf.random.normal([1,5,5,1])\n",
    "print(x,\"\\n----------\")\n",
    "filt = tf.random.normal([3,3,1,1])\n",
    "print(filt,\"\\n----------\")\n",
    "y = tf.nn.convolution(input=x, filters=filt, padding=\"SAME\")\n",
    "print(y)"
   ]
  },
  {
   "cell_type": "code",
   "execution_count": 61,
   "metadata": {},
   "outputs": [
    {
     "name": "stdout",
     "output_type": "stream",
     "text": [
      "0\n",
      "1\n",
      "2\n",
      "3\n",
      "4\n",
      "5\n"
     ]
    }
   ],
   "source": [
    "for s in range(7-1):\n",
    "    print(s)"
   ]
  },
  {
   "cell_type": "code",
   "execution_count": 83,
   "metadata": {},
   "outputs": [
    {
     "name": "stdout",
     "output_type": "stream",
     "text": [
      "tf.Tensor(\n",
      "[[[-0.1723953 ]\n",
      "  [ 0.0338487 ]\n",
      "  [ 1.6317879 ]\n",
      "  [-1.4082063 ]\n",
      "  [ 0.89670163]]\n",
      "\n",
      " [[ 0.50899416]\n",
      "  [-0.8709656 ]\n",
      "  [ 1.3130776 ]\n",
      "  [-1.79161   ]\n",
      "  [ 1.281297  ]]\n",
      "\n",
      " [[ 0.54773813]\n",
      "  [-0.6196524 ]\n",
      "  [ 0.7460126 ]\n",
      "  [ 0.55051225]\n",
      "  [ 1.6879876 ]]\n",
      "\n",
      " [[-1.7514677 ]\n",
      "  [-0.7483046 ]\n",
      "  [-0.7575208 ]\n",
      "  [-0.14627393]\n",
      "  [-1.8146256 ]]\n",
      "\n",
      " [[-0.8650425 ]\n",
      "  [ 0.8913301 ]\n",
      "  [ 2.0793374 ]\n",
      "  [-0.39433217]\n",
      "  [-0.594297  ]]], shape=(5, 5, 1), dtype=float32)\n"
     ]
    },
    {
     "data": {
      "text/plain": [
       "<tf.Tensor: shape=(5, 5, 1), dtype=float32, numpy=\n",
       "array([[[ 0.8276047 ],\n",
       "        [ 1.0338486 ],\n",
       "        [ 2.6317878 ],\n",
       "        [-0.40820634],\n",
       "        [ 1.8967016 ]],\n",
       "\n",
       "       [[ 1.5089941 ],\n",
       "        [ 0.1290344 ],\n",
       "        [ 2.3130774 ],\n",
       "        [-0.79161   ],\n",
       "        [ 2.281297  ]],\n",
       "\n",
       "       [[ 1.5477381 ],\n",
       "        [ 0.3803476 ],\n",
       "        [ 1.7460127 ],\n",
       "        [ 1.5505123 ],\n",
       "        [ 2.6879876 ]],\n",
       "\n",
       "       [[-0.7514677 ],\n",
       "        [ 0.2516954 ],\n",
       "        [ 0.2424792 ],\n",
       "        [ 0.8537261 ],\n",
       "        [-0.8146256 ]],\n",
       "\n",
       "       [[ 0.13495749],\n",
       "        [ 1.8913301 ],\n",
       "        [ 3.0793374 ],\n",
       "        [ 0.6056678 ],\n",
       "        [ 0.405703  ]]], dtype=float32)>"
      ]
     },
     "execution_count": 83,
     "metadata": {},
     "output_type": "execute_result"
    }
   ],
   "source": [
    "a = tf.random.normal([5,5,1])\n",
    "b = tf.ones([11,1])\n",
    "print(a)\n",
    "a+b[0]"
   ]
  },
  {
   "cell_type": "code",
   "execution_count": null,
   "metadata": {},
   "outputs": [],
   "source": []
  }
 ],
 "metadata": {
  "kernelspec": {
   "display_name": "Python 3",
   "language": "python",
   "name": "python3"
  },
  "language_info": {
   "codemirror_mode": {
    "name": "ipython",
    "version": 3
   },
   "file_extension": ".py",
   "mimetype": "text/x-python",
   "name": "python",
   "nbconvert_exporter": "python",
   "pygments_lexer": "ipython3",
   "version": "3.8.3"
  }
 },
 "nbformat": 4,
 "nbformat_minor": 4
}
