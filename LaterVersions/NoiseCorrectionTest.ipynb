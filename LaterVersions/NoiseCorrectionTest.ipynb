{
 "cells": [
  {
   "cell_type": "code",
   "execution_count": 1,
   "metadata": {},
   "outputs": [],
   "source": [
    "import numpy as np\n",
    "import math\n",
    "import tensorflow as tf\n",
    "%matplotlib inline\n",
    "import matplotlib.pyplot as plt"
   ]
  },
  {
   "cell_type": "code",
   "execution_count": 22,
   "metadata": {},
   "outputs": [],
   "source": [
    "noise_max = 0.3 #for example dataset, noise_max=0.3 allows input to vary from target by +-0.15\n",
    "def make_xy_pair(shape): #produces a noisy input, x, and a target output, y\n",
    "    y = np.round(np.random.rand(*shape))\n",
    "    noise = np.random.uniform(low=-noise_max/2, high=noise_max/2, size=(shape))\n",
    "    x = y - noise\n",
    "    return x, y"
   ]
  },
  {
   "cell_type": "code",
   "execution_count": 3,
   "metadata": {},
   "outputs": [],
   "source": [
    "def trapezoidIntegral(vals, ds): #applies the trapezoidal rule along axis 0 of a tensor with ds steps\n",
    "    pass1 = tf.reduce_sum(vals, axis=0)\n",
    "    pass2 = tf.reduce_sum(vals[1:-1], axis=0)\n",
    "    return ds/2.0*(pass1+pass2)\n",
    "def TFconv(image, filt, b): #applies a convolution to the (tensor)image using the (tensor)filter, and adding the bias, (tensor)b, at the end\n",
    "    return tf.nn.convolution(input=image, filters=filt, padding=\"SAME\") + b\n",
    "def leakyRelUInv(x): #applies the inverse of the leakyRelU function using global parameter leakyRelU_weight (should be fixed to a hyperparameter of the model)\n",
    "    shape = x.shape\n",
    "    zeros = tf.zeros(shape)\n",
    "    mask = tf.math.greater_equal(x, zeros)\n",
    "    weighted = x / leakyRelU_weight\n",
    "    return tf.where(mask, x, weighted)\n",
    "def uSoln(x0, inFilt, pFilt, b, y): #forward and backward pass\n",
    "    #this function takes in:\n",
    "    #a tensor input x0 of shape (batch, spatial shape, channels)\n",
    "    #tf.Variable inFilt of shape (time steps, spatial shape, in-channels, out-channels)\n",
    "    #tf.Variable pFilt of shape (layer from, layer to, spatial shape, in-channels, out-channels)\n",
    "    t1 = inFilt.shape[0] #when discretization value is the same as parameter depth, this is true\n",
    "    ds = 1.0/(t1-1)\n",
    "    input_shape = x0.shape\n",
    "    bzero = tf.zeros([inFilt.shape[4]]) #empty bias vector to reuse TFconv function\n",
    "    #x and u serve as complimentary values of the network; every layer is a new tensor\n",
    "    x = tf.TensorArray(tf.float32, size=0, dynamic_size=True, clear_after_read=False) \n",
    "    u = tf.TensorArray(tf.float32, size=0, dynamic_size=True, clear_after_read=False)\n",
    "    \n",
    "    with tf.GradientTape() as tape:\n",
    "        #x0 is not a tf.Variable so it must be watched\n",
    "        tape.watch(x0)\n",
    "        u0 = leakyRelUInv(x0)\n",
    "        u = u.write(0,TFconv(u0, inFilt[0], bzero))\n",
    "        \n",
    "        #for each layer, compute the integral\n",
    "        for h in range(t1-1):\n",
    "            #update x according to latest u\n",
    "            x = x.write(h, tf.nn.leaky_relu(u.read(h), alpha=leakyRelU_weight))\n",
    "            #zInt is used to collect the integrand before integrating\n",
    "            zInt = tf.TensorArray(tf.float32, size=0, dynamic_size=True)\n",
    "            #integral\n",
    "            for s in range(h+1):\n",
    "                #integrand\n",
    "                zInt = zInt.write(s, TFconv(x.read(s), pFilt[s,h], b[h] / ((h+1)*ds)))\n",
    "            #apply trapezoid rule to get integral\n",
    "            z = trapezoidIntegral(zInt.stack(), ds)\n",
    "            #update u according to integral\n",
    "            u = u.write(h+1, z + TFconv(u0, inFilt[h+1], bzero))\n",
    "        #make final update to last layer of x\n",
    "        x = x.write(t1-1,tf.nn.leaky_relu(u.read(t1-1), alpha=leakyRelU_weight))\n",
    "        \n",
    "        #squared difference losses\n",
    "        loss = tf.math.square(x.read(t1-1) - y)\n",
    "        gradients = tape.gradient(loss, [pFilt, inFilt, b])\n",
    "        \n",
    "        #function returns the output, scalar loss, and gradients\n",
    "        return x.read(t1-1), tf.math.reduce_sum(loss), gradients\n",
    "def make_model(t0, input_shape, filter_shape):\n",
    "    #takes in a depth t0, input shape, and filter shape\n",
    "    #returns a tuple containing all tunable parameters: inputFilter, parameterFilter, and bias\n",
    "    t1 = t0+1\n",
    "    \n",
    "    #makes randomized numpy versions of the parameters\n",
    "    rng = np.random.default_rng(42)\n",
    "    iFilt = rng.standard_normal((t1,*filter_shape), dtype=np.float32)\n",
    "    paramFilt = rng.standard_normal((t1,t1,*filter_shape), dtype=np.float32)\n",
    "    biasVec = rng.standard_normal((t1,1), dtype=np.float32)\n",
    "    \n",
    "    #makes tensor versions of the parameters and reorders the dimensions to match that of uSoln\n",
    "    TFiFiltTensor = tf.transpose(tf.compat.v1.get_variable(\"iFiltTensor\", initializer=iFilt), perm=[0,3,4,1,2])\n",
    "    TFiFilt = tf.Variable(TFiFiltTensor, name=\"iFilt\")\n",
    "    TFpFiltTensor = tf.transpose(tf.compat.v1.get_variable(\"pFiltTensor\", initializer=paramFilt), perm=[0,1,4,5,2,3])\n",
    "    TFpFilt = tf.Variable(TFpFiltTensor, name=\"pFilt\")\n",
    "    TFbiasVec = tf.compat.v1.get_variable(\"biasVec\", initializer=biasVec)\n",
    "    \n",
    "    return (TFiFilt, TFpFilt, TFbiasVec)\n",
    "def prepped_input(x): #useful for this particular dataset\n",
    "    return tf.expand_dims(tf.transpose(tf.convert_to_tensor(x, dtype=tf.float32), perm=[1,2,0]), 0)\n",
    "def prepped_output(y):\n",
    "    return tf.expand_dims(tf.transpose(tf.convert_to_tensor(y, dtype=tf.float32), perm=[1,2,0]), 0)\n",
    "def optimize(optimizer, xIn, iFilt, pFilt, bias, y): \n",
    "    #takes in an optimizer, input, parameters, and a target\n",
    "    #applies the gradient to the parameters and returns the scalar loss\n",
    "    output, loss, grad = TFuSoln(xIn, iFilt, pFilt, bias, y)\n",
    "    optimizer.apply_gradients(zip(grad, [pFilt, iFilt, bias]))\n",
    "    return loss"
   ]
  },
  {
   "cell_type": "code",
   "execution_count": 4,
   "metadata": {},
   "outputs": [],
   "source": [
    "#VERY IMPORTANT: this line defines TFuSoln as a tensorflow function, which enables GPU usage\n",
    "TFuSoln = tf.function(uSoln)"
   ]
  },
  {
   "cell_type": "code",
   "execution_count": 43,
   "metadata": {},
   "outputs": [],
   "source": [
    "learning_rate = 0.01\n",
    "leakyRelU_weight = 0.1\n",
    "opt = tf.keras.optimizers.Adam(learning_rate)\n",
    "input_shape = (1,5,5) #channels, spatial shape\n",
    "filter_shape = (1,1,3,3) #in channels, out channels, spatial shape\n",
    "t0 = 5 #depth\n",
    "\n",
    "model = make_model(t0, input_shape, filter_shape)\n",
    "\n",
    "#trial with 1000 iterations\n",
    "iterations = 1000\n",
    "losses = []\n",
    "for i in np.arange(iterations):\n",
    "    npx, npy = make_xy_pair(input_shape)\n",
    "    x = prepped_input(npx.astype(np.float32))\n",
    "    y = prepped_output(npy.astype(np.float32))\n",
    "    losses.append(optimize(opt, x, *model, y))"
   ]
  },
  {
   "cell_type": "code",
   "execution_count": 44,
   "metadata": {
    "scrolled": true
   },
   "outputs": [
    {
     "data": {
      "text/plain": [
       "Text(0, 0.5, 'Simple Sum Loss')"
      ]
     },
     "execution_count": 44,
     "metadata": {},
     "output_type": "execute_result"
    },
    {
     "data": {
      "image/png": "[encoded data removed]",
      "text/plain": [
       "<Figure size 432x288 with 1 Axes>"
      ]
     },
     "metadata": {
      "needs_background": "light"
     },
     "output_type": "display_data"
    }
   ],
   "source": [
    "plt.plot(losses, \"go\", ms=2)\n",
    "plt.title(\"Loss Over Time-->learning_rate=0.01\", fontsize=16)\n",
    "plt.xlabel(\"Iterations\", fontsize=14)\n",
    "plt.ylabel(\"Simple Sum Loss\", fontsize=14)"
   ]
  },
  {
   "cell_type": "code",
   "execution_count": 45,
   "metadata": {},
   "outputs": [
    {
     "data": {
      "text/plain": [
       "<tf.Tensor: shape=(), dtype=float32, numpy=0.48189753>"
      ]
     },
     "execution_count": 45,
     "metadata": {},
     "output_type": "execute_result"
    }
   ],
   "source": [
    "losses[-1]"
   ]
  },
  {
   "cell_type": "code",
   "execution_count": 46,
   "metadata": {},
   "outputs": [
    {
     "name": "stdout",
     "output_type": "stream",
     "text": [
      "[[[-0.01906207  0.11722718  1.02154855  0.11104429  0.08261394]\n",
      "  [ 1.03797113 -0.13092224  1.04601358  1.05471063  0.0027073 ]\n",
      "  [ 0.00212484  0.87647727 -0.01904764 -0.01571082 -0.0681693 ]\n",
      "  [ 1.14724293  0.04183331  1.03699875  0.02439192  0.95082094]\n",
      "  [-0.10595383  0.01695341  0.93367747  0.10951048  0.1174924 ]]]\n"
     ]
    }
   ],
   "source": [
    "sample_x, sample_y = make_xy_pair(input_shape)\n",
    "print(sample_x)"
   ]
  },
  {
   "cell_type": "code",
   "execution_count": 47,
   "metadata": {},
   "outputs": [
    {
     "name": "stdout",
     "output_type": "stream",
     "text": [
      "[[[[-0.05081188 -0.00793203  1.0544658  -0.00568885 -0.02700135]\n",
      "   [ 0.8623413  -0.10112466  1.0221732   0.95854163 -0.02031175]\n",
      "   [-0.02253909  0.8631407  -0.05388936 -0.02466069 -0.09260827]\n",
      "   [ 1.0143838  -0.01864126  1.0672753  -0.01818349  0.8997717 ]\n",
      "   [-0.14721842  0.2602149   0.90425265 -0.00176175 -0.00107543]]]] \n",
      "Loss:  0.18351242\n"
     ]
    }
   ],
   "source": [
    "#this is how you can peek at an individual output\n",
    "out, loss, grad = TFuSoln(prepped_input(sample_x), *model, prepped_output(sample_y))\n",
    "#transpose the output otherwise it is very difficult to read\n",
    "print(tf.transpose(out, perm=[3,0,1,2]).numpy(), \"\\nLoss: \", loss.numpy())"
   ]
  },
  {
   "cell_type": "code",
   "execution_count": 38,
   "metadata": {},
   "outputs": [],
   "source": [
    "model = make_model(t0, input_shape, filter_shape)\n",
    "\n",
    "#trial with 10,000 iterations\n",
    "iterations = 10000\n",
    "losses = []\n",
    "for i in np.arange(iterations):\n",
    "    npx, npy = make_xy_pair(input_shape)\n",
    "    x = prepped_input(npx.astype(np.float32))\n",
    "    y = prepped_output(npy.astype(np.float32))\n",
    "    losses.append(optimize(opt, x, *model, y))"
   ]
  },
  {
   "cell_type": "code",
   "execution_count": 39,
   "metadata": {},
   "outputs": [
    {
     "data": {
      "text/plain": [
       "Text(0, 0.5, 'Simple Sum Loss')"
      ]
     },
     "execution_count": 39,
     "metadata": {},
     "output_type": "execute_result"
    },
    {
     "data": {
      "image/png": "[encoded data removed]",
      "text/plain": [
       "<Figure size 432x288 with 1 Axes>"
      ]
     },
     "metadata": {
      "needs_background": "light"
     },
     "output_type": "display_data"
    }
   ],
   "source": [
    "plt.plot(losses, \"go\", ms=2)\n",
    "plt.title(\"Loss Over Time-->learning_rate=0.01\", fontsize=16)\n",
    "plt.xlabel(\"Iterations\", fontsize=14)\n",
    "plt.ylabel(\"Simple Sum Loss\", fontsize=14)"
   ]
  },
  {
   "cell_type": "code",
   "execution_count": 42,
   "metadata": {},
   "outputs": [
    {
     "data": {
      "text/plain": [
       "(-1.0, 5.0)"
      ]
     },
     "execution_count": 42,
     "metadata": {},
     "output_type": "execute_result"
    },
    {
     "data": {
      "image/png": "[encoded data removed]",
      "text/plain": [
       "<Figure size 432x288 with 1 Axes>"
      ]
     },
     "metadata": {
      "needs_background": "light"
     },
     "output_type": "display_data"
    }
   ],
   "source": [
    "plt.plot(losses, \"go\", ms=2)\n",
    "plt.title(\"Loss Over Time-->learning_rate=0.01, y-axis from 0-5\", fontsize=16)\n",
    "plt.xlabel(\"Iterations\", fontsize=14)\n",
    "plt.ylabel(\"Simple Sum Loss\", fontsize=14)\n",
    "plt.ylim(-1, 5)"
   ]
  },
  {
   "cell_type": "code",
   "execution_count": 40,
   "metadata": {},
   "outputs": [
    {
     "data": {
      "text/plain": [
       "<tf.Tensor: shape=(), dtype=float32, numpy=0.0075839385>"
      ]
     },
     "execution_count": 40,
     "metadata": {},
     "output_type": "execute_result"
    }
   ],
   "source": [
    "losses[-1]"
   ]
  },
  {
   "cell_type": "code",
   "execution_count": 32,
   "metadata": {},
   "outputs": [
    {
     "name": "stdout",
     "output_type": "stream",
     "text": [
      "[[[ 0.87241395  1.06473068  0.12497336 -0.14968339  1.05976959]\n",
      "  [ 1.02840862  0.04843377  0.97090386  0.90647904  0.97227794]\n",
      "  [ 1.05165886 -0.13343397  0.03518431  0.98367309  1.04187682]\n",
      "  [ 0.02985633  1.1350986   0.87389495  1.11949909 -0.03649113]\n",
      "  [-0.02286095 -0.13645491  0.96898348 -0.07734319  0.05444967]]]\n"
     ]
    }
   ],
   "source": [
    "sample_x, sample_y = make_xy_pair(input_shape)\n",
    "print(sample_x)"
   ]
  },
  {
   "cell_type": "code",
   "execution_count": 33,
   "metadata": {},
   "outputs": [
    {
     "name": "stdout",
     "output_type": "stream",
     "text": [
      "[[[[ 1.0016712   1.0012887  -0.0024905  -0.0057745   1.0127778 ]\n",
      "   [ 1.0014086  -0.00420178  0.9959167   1.0251082   0.99353415]\n",
      "   [ 0.993917   -0.00479618 -0.00566587  1.0037587   0.994218  ]\n",
      "   [-0.00674167  1.0177482   1.0010129   0.9925158  -0.00259583]\n",
      "   [-0.00342197 -0.00560738  1.004737   -0.00367616 -0.00186679]]]] \n",
      "Loss:  0.0015623014\n"
     ]
    }
   ],
   "source": [
    "out, loss, grad = TFuSoln(prepped_input(sample_x), *model, prepped_output(sample_y))\n",
    "print(tf.transpose(out, perm=[3,0,1,2]).numpy(), \"\\nLoss: \", loss.numpy())"
   ]
  },
  {
   "cell_type": "code",
   "execution_count": null,
   "metadata": {},
   "outputs": [],
   "source": []
  }
 ],
 "metadata": {
  "kernelspec": {
   "display_name": "Python 3",
   "language": "python",
   "name": "python3"
  },
  "language_info": {
   "codemirror_mode": {
    "name": "ipython",
    "version": 3
   },
   "file_extension": ".py",
   "mimetype": "text/x-python",
   "name": "python",
   "nbconvert_exporter": "python",
   "pygments_lexer": "ipython3",
   "version": "3.8.3"
  }
 },
 "nbformat": 4,
 "nbformat_minor": 4
}
