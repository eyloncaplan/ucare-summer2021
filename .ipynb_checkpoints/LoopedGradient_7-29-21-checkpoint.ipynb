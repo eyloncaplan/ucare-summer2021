{
 "cells": [
  {
   "cell_type": "code",
   "execution_count": 1,
   "metadata": {},
   "outputs": [],
   "source": [
    "import numpy as np\n",
    "import math\n",
    "import tensorflow as tf\n",
    "%load_ext tensorboard\n",
    "%matplotlib inline\n",
    "import matplotlib.pyplot as plt"
   ]
  },
  {
   "cell_type": "code",
   "execution_count": 2,
   "metadata": {},
   "outputs": [],
   "source": [
    "leakyRelU_weight = 0.1"
   ]
  },
  {
   "cell_type": "code",
   "execution_count": 3,
   "metadata": {},
   "outputs": [],
   "source": [
    "def trapezoidIntegral(vals, ds):\n",
    "    pass1 = tf.reduce_sum(vals, axis=0)\n",
    "    pass2 = tf.reduce_sum(vals[1:-1], axis=0)\n",
    "    return ds/2.0*(pass1+pass2)\n",
    "def TFconv(image, filt, b):\n",
    "    return tf.nn.convolution(input=image, filters=filt, padding=\"SAME\") + b\n",
    "def leakyRelUInv(x):\n",
    "    shape = x.shape\n",
    "    zeros = tf.zeros(shape)\n",
    "    mask = tf.math.greater_equal(x, zeros)\n",
    "    weighted = x / leakyRelU_weight\n",
    "    return tf.where(mask, x, weighted)"
   ]
  },
  {
   "cell_type": "code",
   "execution_count": 4,
   "metadata": {},
   "outputs": [],
   "source": [
    "def loopTFuSoln(x0, inFilt, pFilt, b):\n",
    "    t1 = inFilt.shape[0]\n",
    "    ds = 1.0/(t1-1)\n",
    "    input_shape = x0.shape\n",
    "    bzero = tf.zeros([inFilt.shape[4]])\n",
    "    x = tf.TensorArray(tf.float32, size=0, dynamic_size=True, clear_after_read=False)\n",
    "    u = tf.TensorArray(tf.float32, size=0, dynamic_size=True, clear_after_read=False)\n",
    "    \n",
    "    with tf.GradientTape() as tape:\n",
    "        tape.watch(x0)\n",
    "        u0 = leakyRelUInv(x0)\n",
    "        u = u.write(0,TFconv(u0, inFilt[0], bzero))\n",
    "\n",
    "        for h in range(t1-1):\n",
    "            x = x.write(h, tf.nn.leaky_relu(u.read(h), alpha=leakyRelU_weight))\n",
    "            zInt = tf.TensorArray(tf.float32, size=0, dynamic_size=True)\n",
    "            for s in range(h+1):\n",
    "                zInt = zInt.write(s, TFconv(x.read(s), pFilt[s,h], b[h] / ((h+1)*ds)))\n",
    "            z = trapezoidIntegral(zInt.stack(), ds)\n",
    "            u = u.write(h+1, z + TFconv(u0, inFilt[h+1], bzero))\n",
    "        x = x.write(t1-1,tf.nn.leaky_relu(u.read(t1-1), alpha=leakyRelU_weight))\n",
    "        \n",
    "        loss = tf.math.square(x.read(t1-1) - x0)\n",
    "        gradients = tape.gradient(loss, [pFilt, inFilt, b])\n",
    "        #optimizer.apply_gradients(zip(gradients, [pFilt, inFilt, b]))\n",
    "        \n",
    "        return tf.math.reduce_sum(loss), gradients"
   ]
  },
  {
   "cell_type": "code",
   "execution_count": 5,
   "metadata": {},
   "outputs": [],
   "source": [
    "t0 = 5\n",
    "t1 = t0+1\n",
    "input_shape = (1,5,5)\n",
    "filter_shape = (1,1,3,3)\n",
    "\n",
    "\n",
    "\n",
    "actWt = [.1, 1] #leakyRelU: first number is slope left of origin, second number is slope right of origin\n",
    "\n",
    "np.set_printoptions(suppress=True)\n",
    "rng = np.random.default_rng(42)\n",
    "uIn = rng.standard_normal(input_shape, dtype=np.float32)\n",
    "iFilt = rng.standard_normal((t1,*filter_shape), dtype=np.float32)\n",
    "paramFilt = rng.standard_normal((t1,t1,*filter_shape), dtype=np.float32)\n",
    "biasVec = rng.standard_normal((t1,1), dtype=np.float32)\n",
    "\n",
    "#xOut, uOut = uSoln(uIn, dt, iFilt, paramFilt, biasVec)\n",
    "#print(xOut)"
   ]
  },
  {
   "cell_type": "code",
   "execution_count": 13,
   "metadata": {},
   "outputs": [],
   "source": [
    "TFuIn = tf.expand_dims(tf.transpose(tf.convert_to_tensor(uIn, dtype=tf.float32), perm=[1,2,0]), 0)\n",
    "\n",
    "TFiFiltTensor = tf.transpose(tf.compat.v1.get_variable(\"iFiltTensor\", initializer=iFilt), perm=[0,3,4,1,2])\n",
    "TFiFilt = tf.Variable(TFiFiltTensor, name=\"iFilt\")\n",
    "\n",
    "TFpFiltTensor = tf.transpose(tf.compat.v1.get_variable(\"pFiltTensor\", initializer=paramFilt), perm=[0,1,4,5,2,3])\n",
    "TFpFilt = tf.Variable(TFpFiltTensor, name=\"pFilt\")\n",
    "\n",
    "TFbiasVec = tf.compat.v1.get_variable(\"biasVec\", initializer=biasVec)\n",
    "\n",
    "#TFxOut, TFuOut = TFuSoln(TFuIn, dt, TFiFilt, TFpFilt, TFbiasVec)\n",
    "#print(tf.transpose(TFuOut, perm=[4,0,1,2,3]))"
   ]
  },
  {
   "cell_type": "code",
   "execution_count": 7,
   "metadata": {},
   "outputs": [],
   "source": [
    "TFloopUSoln = tf.function(loopTFuSoln)\n",
    "tf.config.run_functions_eagerly(False)"
   ]
  },
  {
   "cell_type": "code",
   "execution_count": 17,
   "metadata": {},
   "outputs": [
    {
     "data": {
      "text/plain": [
       "<tf.Tensor: shape=(1, 5, 5, 1), dtype=float32, numpy=\n",
       "array([[[[ 0.14190717],\n",
       "         [-1.6685079 ],\n",
       "         [-1.332108  ],\n",
       "         [ 0.58255345],\n",
       "         [ 0.3740366 ]],\n",
       "\n",
       "        [[ 1.7554446 ],\n",
       "         [ 0.13962899],\n",
       "         [ 0.41919115],\n",
       "         [-0.52172035],\n",
       "         [-0.1815749 ]],\n",
       "\n",
       "        [[-0.85166216],\n",
       "         [ 2.568927  ],\n",
       "         [ 1.0554465 ],\n",
       "         [-0.7322652 ],\n",
       "         [-0.78643155]],\n",
       "\n",
       "        [[ 1.4023651 ],\n",
       "         [-0.34617117],\n",
       "         [ 0.09137221],\n",
       "         [-1.1877912 ],\n",
       "         [ 0.40984577]],\n",
       "\n",
       "        [[ 0.4553142 ],\n",
       "         [ 0.5972486 ],\n",
       "         [ 0.3428611 ],\n",
       "         [ 1.2612802 ],\n",
       "         [ 0.34195012]]]], dtype=float32)>"
      ]
     },
     "execution_count": 17,
     "metadata": {},
     "output_type": "execute_result"
    }
   ],
   "source": [
    "TFuIn"
   ]
  },
  {
   "cell_type": "code",
   "execution_count": null,
   "metadata": {},
   "outputs": [],
   "source": []
  },
  {
   "cell_type": "code",
   "execution_count": null,
   "metadata": {},
   "outputs": [],
   "source": []
  },
  {
   "cell_type": "code",
   "execution_count": 8,
   "metadata": {},
   "outputs": [],
   "source": [
    "def optimize(optimizer, uIn, iFilt, pFilt, bias):\n",
    "    loss, grad = TFloopUSoln(uIn, iFilt, pFilt, bias)\n",
    "    optimizer.apply_gradients(zip(grad, [pFilt, iFilt, bias]))\n",
    "    return loss"
   ]
  },
  {
   "cell_type": "code",
   "execution_count": 14,
   "metadata": {},
   "outputs": [],
   "source": [
    "learning_rate = 0.1\n",
    "opt = tf.keras.optimizers.Adam(learning_rate)\n",
    "\n",
    "iterations = 100\n",
    "losses = []\n",
    "for i in np.arange(iterations):\n",
    "    losses.append(optimize(opt, TFuIn, TFiFilt, TFpFilt, TFbiasVec))"
   ]
  },
  {
   "cell_type": "code",
   "execution_count": 15,
   "metadata": {},
   "outputs": [
    {
     "data": {
      "text/plain": [
       "Text(0, 0.5, 'Simple Sum Loss')"
      ]
     },
     "execution_count": 15,
     "metadata": {},
     "output_type": "execute_result"
    },
    {
     "data": {
      "image/png": "[encoded data removed]",
      "text/plain": [
       "<Figure size 432x288 with 1 Axes>"
      ]
     },
     "metadata": {
      "needs_background": "light"
     },
     "output_type": "display_data"
    }
   ],
   "source": [
    "plt.plot(losses, \"go\", ms=4)\n",
    "plt.title(\"Loss Over Time\", fontsize=16)\n",
    "plt.xlabel(\"Iterations\", fontsize=14)\n",
    "plt.ylabel(\"Simple Sum Loss\", fontsize=14)"
   ]
  },
  {
   "cell_type": "code",
   "execution_count": 16,
   "metadata": {},
   "outputs": [
    {
     "data": {
      "text/plain": [
       "<tf.Tensor: shape=(), dtype=float32, numpy=4.517622>"
      ]
     },
     "execution_count": 16,
     "metadata": {},
     "output_type": "execute_result"
    }
   ],
   "source": [
    "losses[99]"
   ]
  },
  {
   "cell_type": "code",
   "execution_count": null,
   "metadata": {},
   "outputs": [],
   "source": []
  }
 ],
 "metadata": {
  "kernelspec": {
   "display_name": "Python 3",
   "language": "python",
   "name": "python3"
  },
  "language_info": {
   "codemirror_mode": {
    "name": "ipython",
    "version": 3
   },
   "file_extension": ".py",
   "mimetype": "text/x-python",
   "name": "python",
   "nbconvert_exporter": "python",
   "pygments_lexer": "ipython3",
   "version": "3.8.3"
  }
 },
 "nbformat": 4,
 "nbformat_minor": 4
}
