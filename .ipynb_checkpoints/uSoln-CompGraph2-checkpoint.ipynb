{
 "cells": [
  {
   "cell_type": "code",
   "execution_count": 1,
   "metadata": {},
   "outputs": [],
   "source": [
    "import numpy as np\n",
    "import tensorflow as tf\n",
    "import keras"
   ]
  },
  {
   "cell_type": "code",
   "execution_count": 8,
   "metadata": {},
   "outputs": [],
   "source": [
    "def uSolnLoop(raw_u0, ds, inFilt, pFilt, b):\n",
    "    outChan, tMax = inFilt.shape[4], inFilt.shape[0]\n",
    "    bzero = tf.zeros([outChan])\n",
    "    u0 = conv(raw_u0, inFilt[0], bzero)\n",
    "    for h in range(tMax - 1):\n",
    "        print(\"hi\")"
   ]
  },
  {
   "cell_type": "code",
   "execution_count": 11,
   "metadata": {},
   "outputs": [],
   "source": [
    "def uSoln(raw_u0, ds, inFilt, pFilt, b):\n",
    "    bzero = tf.zeros([inFilt.shape[4]])\n",
    "    u0 = conv(raw_u0, inFilt[0], bzero)\n",
    "    #for loop begins, h=0\n",
    "    x0 = tf.nn.leaky_relu(u0, alpha=0.1)\n",
    "    zInt0 = conv(x0, pFilt[0,0], b[0] / ((0+1)*ds))\n",
    "    z0 = trapezoidIntegral(zInt0, ds)\n",
    "    u1 = z0 + conv(raw_u0, inFilt[1], bzero)\n",
    "    #for loop begins, h=1\n",
    "    x1 = tf.nn.leaky_relu(u1, alpha=0.1)\n",
    "    zInt1_0 = conv(x0, pFilt[0,1], b[1] / ((1+1)*ds)) #s=0\n",
    "    zInt1_1 = conv(x1, pFilt[1,1], b[1] / ((1+1)*ds)) #s=1\n",
    "    zInt1 = zInt1_0 + zInt1_1\n",
    "    z1 = trapezoidIntegral(zInt1, ds)\n",
    "    u2 = z1 + conv(raw_u0, inFilt[2], bzero)\n",
    "    #for loop begins, h=2\n",
    "    x2 = tf.nn.leaky_relu(u2, alpha=0.1)\n",
    "    zInt2_0 = conv(x0, pFilt[0,2], b[2] / ((2+1)*ds)) #s=0\n",
    "    zInt2_1 = conv(x1, pFilt[1,2], b[2] / ((2+1)*ds)) #s=1\n",
    "    zInt2_2 = conv(x2, pFilt[2,2], b[2] / ((2+1)*ds)) #s=2\n",
    "    zInt2 = zInt2_0 + zInt2_1 + zInt2_2\n",
    "    z2 = trapezoidIntegral(zInt2, ds)\n",
    "    u3 = z2 + conv(raw_u0, inFilt[3], bzero)\n",
    "    #end loop\n",
    "    x3 = tf.nn.leaky_relu(u3, alpha=0.1)\n",
    "    \n",
    "    x = tf.stack([x0,x1,x2,x3])\n",
    "    u = tf.stack([u0,u1,u2,u3])\n",
    "    \n",
    "    return x,u\n"
   ]
  },
  {
   "cell_type": "code",
   "execution_count": 3,
   "metadata": {},
   "outputs": [],
   "source": [
    "def trapezoidIntegral(vals, ds):\n",
    "    pass1 = tf.reduce_sum(vals, axis=0)\n",
    "    pass2 = tf.reduce_sum(vals[1:-1], axis=0)\n",
    "    return ds/2.0*(pass1+pass2)\n",
    "def conv(image, filt, b):\n",
    "    return tf.nn.convolution(input=image, filters=filt, padding=\"SAME\") + b"
   ]
  },
  {
   "cell_type": "code",
   "execution_count": 22,
   "metadata": {},
   "outputs": [
    {
     "data": {
      "text/plain": [
       "tf.float32"
      ]
     },
     "execution_count": 22,
     "metadata": {},
     "output_type": "execute_result"
    }
   ],
   "source": [
    "t1 = 11\n",
    "dt = 1/10.0\n",
    "uIn = tf.random.uniform([1,5,5,1]) #batch size (1), input spatial shape, in-channels\n",
    "iFilt = tf.random.uniform([t1,3,3,1,1]) #time steps, spatial shape, in-channels, out-channels\n",
    "pFilt = tf.random.uniform([t1,t1,3,3,1,1]) #layer from, layer to (maybe reversed), spatial shape, in-channels, out-channels\n",
    "b = tf.ones([t1,1])\n",
    "a,b = uSoln(uIn, dt, iFilt, pFilt, b)\n",
    "uIn.dtype      \n",
    "\n",
    "\n"
   ]
  },
  {
   "cell_type": "code",
   "execution_count": 15,
   "metadata": {},
   "outputs": [],
   "source": [
    "(x_train, y_train), (x_test, y_test) = keras.datasets.mnist.load_data()"
   ]
  },
  {
   "cell_type": "code",
   "execution_count": null,
   "metadata": {},
   "outputs": [],
   "source": []
  },
  {
   "cell_type": "code",
   "execution_count": null,
   "metadata": {},
   "outputs": [],
   "source": []
  }
 ],
 "metadata": {
  "kernelspec": {
   "display_name": "Python 3",
   "language": "python",
   "name": "python3"
  },
  "language_info": {
   "codemirror_mode": {
    "name": "ipython",
    "version": 3
   },
   "file_extension": ".py",
   "mimetype": "text/x-python",
   "name": "python",
   "nbconvert_exporter": "python",
   "pygments_lexer": "ipython3",
   "version": "3.8.3"
  }
 },
 "nbformat": 4,
 "nbformat_minor": 4
}
