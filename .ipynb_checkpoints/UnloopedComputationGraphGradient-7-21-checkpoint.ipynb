{
 "cells": [
  {
   "cell_type": "code",
   "execution_count": 1,
   "metadata": {},
   "outputs": [],
   "source": [
    "import numpy as np\n",
    "import math\n",
    "import tensorflow as tf\n",
    "%matplotlib inline\n",
    "import matplotlib.pyplot as plt"
   ]
  },
  {
   "cell_type": "code",
   "execution_count": 29,
   "metadata": {},
   "outputs": [],
   "source": [
    "learning_rate = 0.01"
   ]
  },
  {
   "cell_type": "code",
   "execution_count": 3,
   "metadata": {},
   "outputs": [],
   "source": [
    "def trapezoidIntegral(vals, ds):\n",
    "    pass1 = tf.reduce_sum(vals, axis=0)\n",
    "    pass2 = tf.reduce_sum(vals[1:-1], axis=0)\n",
    "    return ds/2.0*(pass1+pass2)\n",
    "def TFconv(image, filt, b):\n",
    "    return tf.nn.convolution(input=image, filters=filt, padding=\"SAME\") + b"
   ]
  },
  {
   "cell_type": "code",
   "execution_count": 4,
   "metadata": {},
   "outputs": [],
   "source": [
    "def TFuSoln(raw_u0, ds, inFilt, pFilt, b, optimizer):\n",
    "    with tf.GradientTape() as tape:\n",
    "        bzero = tf.zeros([inFilt.shape[4]])\n",
    "        tape.watch(raw_u0)\n",
    "        u0 = TFconv(raw_u0, inFilt[0], bzero)\n",
    "        #for loop begins, h=0\n",
    "        x0 = tf.nn.leaky_relu(u0, alpha=0.1)\n",
    "        zInt0 = TFconv(x0, pFilt[0,0], b[0] / ((0+1)*ds))\n",
    "        z0 = trapezoidIntegral(zInt0, ds)\n",
    "        u1 = z0 + TFconv(raw_u0, inFilt[1], bzero)\n",
    "        \n",
    "        #h=1\n",
    "        x1 = tf.nn.leaky_relu(u1, alpha=0.1)\n",
    "        zInt1_0 = TFconv(x0, pFilt[0,1], b[1] / ((1+1)*ds)) #s=0\n",
    "        zInt1_1 = TFconv(x1, pFilt[1,1], b[1] / ((1+1)*ds)) #s=1\n",
    "        zInt1 = tf.stack([zInt1_0, zInt1_1])\n",
    "        z1 = trapezoidIntegral(zInt1, ds)\n",
    "        u2 = z1 + TFconv(raw_u0, inFilt[2], bzero)\n",
    "        #h=2\n",
    "        x2 = tf.nn.leaky_relu(u2, alpha=0.1)#\n",
    "        zInt2_0 = TFconv(x0, pFilt[0,2], b[2] / ((2+1)*ds)) #s=0\n",
    "        zInt2_1 = TFconv(x1, pFilt[1,2], b[2] / ((2+1)*ds)) #s=1\n",
    "        zInt2_2 = TFconv(x2, pFilt[2,2], b[2] / ((2+1)*ds)) #s=2\n",
    "        zInt2 = tf.stack([zInt2_0, zInt2_1, zInt2_2])\n",
    "        z2 = trapezoidIntegral(zInt2, ds)#\n",
    "        u3 = z2 + TFconv(raw_u0, inFilt[3], bzero)\n",
    "        #h=3\n",
    "        x3 = tf.nn.leaky_relu(u3, alpha=0.1)\n",
    "        zInt3_0 = TFconv(x0, pFilt[0,3], b[3] / ((3+1)*ds)) #s=0\n",
    "        zInt3_1 = TFconv(x1, pFilt[1,3], b[3] / ((3+1)*ds)) #s=1\n",
    "        zInt3_2 = TFconv(x2, pFilt[2,3], b[3] / ((3+1)*ds)) #s=2\n",
    "        zInt3_3 = TFconv(x3, pFilt[3,3], b[3] / ((3+1)*ds)) #s=3\n",
    "        zInt3 = tf.stack([zInt3_0, zInt3_1, zInt3_2, zInt3_3])\n",
    "        z3 = trapezoidIntegral(zInt3, ds)\n",
    "        u4 = z3 + TFconv(raw_u0, inFilt[4], bzero)\n",
    "        #end loop\n",
    "        x4 = tf.nn.leaky_relu(u4, alpha=0.1)\n",
    "        \n",
    "        loss = tf.math.square(u4 - raw_u0)\n",
    "        #print(\"Loss: \", tf.math.reduce_sum(loss))\n",
    "        #[dl_dpFilt, dl_dinFilt, dl_db] = tape.gradient(loss, [pFilt, inFilt, b])\n",
    "        #print(tf.transpose(dl_dpFilt, perm=[0,1,4,5,2,3]))\n",
    "        #print(difference_sq)\n",
    "        gradients = tape.gradient(loss, [pFilt, inFilt, b])\n",
    "        #print(\"Before gradient:\", b)\n",
    "        optimizer.apply_gradients(zip(gradients, [pFilt, inFilt, b]))\n",
    "        #print(\"After gradient:\", b)\n",
    "        return tf.math.reduce_sum(loss)\n",
    "    \n",
    "    #x = tf.stack([x0,x1,x2,x3,x4])\n",
    "    #u = tf.stack([u0,u1,u2,u3,u4])\n",
    "    \n",
    "    #return x,u"
   ]
  },
  {
   "cell_type": "code",
   "execution_count": 37,
   "metadata": {},
   "outputs": [
    {
     "name": "stdout",
     "output_type": "stream",
     "text": [
      "[[[0.08925092 0.77395594 0.6545714  0.43887842 0.43301523]\n",
      "  [0.8585979  0.08594561 0.697368   0.20146942 0.09417725]\n",
      "  [0.5264789  0.9756223  0.73575234 0.76113963 0.7174772 ]\n",
      "  [0.78606427 0.5132265  0.12811363 0.83974814 0.45038593]\n",
      "  [0.5003519  0.370798   0.1825496  0.92676497 0.78156745]]]\n"
     ]
    }
   ],
   "source": [
    "t0 = 4\n",
    "t1 = t0+1\n",
    "dt = 1.0/t0\n",
    "input_shape = (1,5,5)\n",
    "filter_shape = (1,1,3,3)\n",
    "\n",
    "\n",
    "\n",
    "actWt = [.1, 1] #leakyRelU: first number is slope left of origin, second number is slope right of origin\n",
    "\n",
    "rng = np.random.default_rng(42)\n",
    "uIn = rng.random(input_shape, dtype=np.float32)\n",
    "iFilt = rng.random((t1,*filter_shape), dtype=np.float32)\n",
    "paramFilt = rng.random((t1,t1,*filter_shape), dtype=np.float32)\n",
    "biasVec = rng.random((t1,1), dtype=np.float32)\n",
    "\n",
    "#xOut, uOut = uSoln(uIn, dt, iFilt, paramFilt, biasVec)\n",
    "print(uIn)"
   ]
  },
  {
   "cell_type": "code",
   "execution_count": 34,
   "metadata": {},
   "outputs": [],
   "source": [
    "TFuIn = tf.expand_dims(tf.transpose(tf.convert_to_tensor(uIn, dtype=tf.float32), perm=[1,2,0]), 0)\n",
    "\n",
    "TFiFiltTensor = tf.transpose(tf.compat.v1.get_variable(\"iFiltTensor\", initializer=iFilt), perm=[0,3,4,1,2])\n",
    "TFiFilt = tf.Variable(TFiFiltTensor, name=\"iFilt\")\n",
    "\n",
    "TFpFiltTensor = tf.transpose(tf.compat.v1.get_variable(\"pFiltTensor\", initializer=paramFilt), perm=[0,1,4,5,2,3])\n",
    "TFpFilt = tf.Variable(TFpFiltTensor, name=\"pFilt\")\n",
    "\n",
    "TFbiasVec = tf.compat.v1.get_variable(\"biasVec\", initializer=biasVec)\n",
    "\n",
    "opt = tf.keras.optimizers.Adam(learning_rate)\n",
    "\n",
    "iterations = 200\n",
    "losses = []\n",
    "for i in np.arange(iterations):\n",
    "    losses.append(TFuSoln(TFuIn, dt, TFiFilt, TFpFilt, TFbiasVec, opt).numpy())"
   ]
  },
  {
   "cell_type": "code",
   "execution_count": 7,
   "metadata": {},
   "outputs": [],
   "source": [
    "#print(tf.transpose(TFuOut, perm=[4,0,1,2,3]))"
   ]
  },
  {
   "cell_type": "code",
   "execution_count": 35,
   "metadata": {},
   "outputs": [
    {
     "data": {
      "text/plain": [
       "Text(0, 0.5, 'Simple Sum Loss')"
      ]
     },
     "execution_count": 35,
     "metadata": {},
     "output_type": "execute_result"
    },
    {
     "data": {
      "image/png": "[encoded data removed]",
      "text/plain": [
       "<Figure size 432x288 with 1 Axes>"
      ]
     },
     "metadata": {
      "needs_background": "light"
     },
     "output_type": "display_data"
    }
   ],
   "source": [
    "plt.plot(losses, \"go\", ms=4)\n",
    "plt.title(\"Loss Over Time\", fontsize=16)\n",
    "plt.xlabel(\"Iterations\", fontsize=14)\n",
    "plt.ylabel(\"Simple Sum Loss\", fontsize=14)\n",
    "#plt.xlim([0, iterations+1])\n",
    "#plt.ylim([0,40])"
   ]
  },
  {
   "cell_type": "code",
   "execution_count": 36,
   "metadata": {},
   "outputs": [
    {
     "data": {
      "text/plain": [
       "14.041688"
      ]
     },
     "execution_count": 36,
     "metadata": {},
     "output_type": "execute_result"
    }
   ],
   "source": [
    "losses[99]"
   ]
  },
  {
   "cell_type": "code",
   "execution_count": null,
   "metadata": {},
   "outputs": [],
   "source": []
  }
 ],
 "metadata": {
  "kernelspec": {
   "display_name": "Python 3",
   "language": "python",
   "name": "python3"
  },
  "language_info": {
   "codemirror_mode": {
    "name": "ipython",
    "version": 3
   },
   "file_extension": ".py",
   "mimetype": "text/x-python",
   "name": "python",
   "nbconvert_exporter": "python",
   "pygments_lexer": "ipython3",
   "version": "3.8.3"
  }
 },
 "nbformat": 4,
 "nbformat_minor": 4
}
