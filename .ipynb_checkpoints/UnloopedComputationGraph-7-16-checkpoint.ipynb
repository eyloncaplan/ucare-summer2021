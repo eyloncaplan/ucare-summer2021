{
 "cells": [
  {
   "cell_type": "code",
   "execution_count": 1,
   "metadata": {},
   "outputs": [],
   "source": [
    "import numpy as np\n",
    "import math\n",
    "import tensorflow as tf"
   ]
  },
  {
   "cell_type": "code",
   "execution_count": 2,
   "metadata": {},
   "outputs": [],
   "source": [
    "def trapezoidIntegral(vals, ds):\n",
    "    pass1 = tf.reduce_sum(vals, axis=0)\n",
    "    pass2 = tf.reduce_sum(vals[1:-1], axis=0)\n",
    "    return ds/2.0*(pass1+pass2)\n",
    "def TFconv(image, filt, b):\n",
    "    return tf.nn.convolution(input=image, filters=filt, padding=\"SAME\") + b"
   ]
  },
  {
   "cell_type": "code",
   "execution_count": 3,
   "metadata": {},
   "outputs": [],
   "source": [
    "def TFuSoln(raw_u0, ds, inFilt, pFilt, b):\n",
    "    bzero = tf.zeros([inFilt.shape[4]])\n",
    "    u0 = TFconv(raw_u0, inFilt[0], bzero)\n",
    "    #for loop begins, h=0\n",
    "    x0 = tf.nn.leaky_relu(u0, alpha=0.1)\n",
    "    zInt0 = TFconv(x0, pFilt[0,0], b[0] / ((0+1)*ds))\n",
    "    z0 = trapezoidIntegral(zInt0, ds)\n",
    "    u1 = z0 + TFconv(raw_u0, inFilt[1], bzero)\n",
    "    #h=1\n",
    "    x1 = tf.nn.leaky_relu(u1, alpha=0.1)\n",
    "    zInt1_0 = TFconv(x0, pFilt[0,1], b[1] / ((1+1)*ds)) #s=0\n",
    "    zInt1_1 = TFconv(x1, pFilt[1,1], b[1] / ((1+1)*ds)) #s=1\n",
    "    #zInt1 = zInt1_0 + zInt1_1\n",
    "    zInt1 = tf.stack([zInt1_0, zInt1_1])\n",
    "    z1 = trapezoidIntegral(zInt1, ds)\n",
    "    u2 = z1 + TFconv(raw_u0, inFilt[2], bzero)\n",
    "    #h=2\n",
    "    x2 = tf.nn.leaky_relu(u2, alpha=0.1)#\n",
    "    zInt2_0 = TFconv(x0, pFilt[0,2], b[2] / ((2+1)*ds)) #s=0\n",
    "    zInt2_1 = TFconv(x1, pFilt[1,2], b[2] / ((2+1)*ds)) #s=1\n",
    "    zInt2_2 = TFconv(x2, pFilt[2,2], b[2] / ((2+1)*ds)) #s=2\n",
    "    #zInt2 = zInt2_0 + zInt2_1 + zInt2_2\n",
    "    zInt2 = tf.stack([zInt2_0, zInt2_1, zInt2_2])\n",
    "    z2 = trapezoidIntegral(zInt2, ds)#\n",
    "    u3 = z2 + TFconv(raw_u0, inFilt[3], bzero)\n",
    "    #h=3\n",
    "    x3 = tf.nn.leaky_relu(u3, alpha=0.1)\n",
    "    zInt3_0 = TFconv(x0, pFilt[0,3], b[3] / ((3+1)*ds)) #s=0\n",
    "    zInt3_1 = TFconv(x1, pFilt[1,3], b[3] / ((3+1)*ds)) #s=1\n",
    "    zInt3_2 = TFconv(x2, pFilt[2,3], b[3] / ((3+1)*ds)) #s=2\n",
    "    zInt3_3 = TFconv(x3, pFilt[3,3], b[3] / ((3+1)*ds)) #s=3\n",
    "    #zInt3 = zInt3_0 + zInt3_1 + zInt3_2 + zInt3_3\n",
    "    zInt3 = tf.stack([zInt3_0, zInt3_1, zInt3_2, zInt3_3])\n",
    "    z3 = trapezoidIntegral(zInt3, ds)\n",
    "    u4 = z3 + TFconv(raw_u0, inFilt[4], bzero)\n",
    "    #end loop\n",
    "    x4 = tf.nn.leaky_relu(u4, alpha=0.1)\n",
    "    \n",
    "    #print(\"z with h=0\", z0)\n",
    "    #print(\"z with h=1\", z1)\n",
    "    #print(\"z with h=2\", z2)\n",
    "    #print(\"z with h=3\", z3)\n",
    "    \n",
    "    x = tf.stack([x0,x1,x2,x3,x4])\n",
    "    u = tf.stack([u0,u1,u2,u3,u4])\n",
    "    \n",
    "    return x,u"
   ]
  },
  {
   "cell_type": "code",
   "execution_count": 8,
   "metadata": {},
   "outputs": [],
   "source": [
    "t0 = 4\n",
    "t1 = t0+1\n",
    "dt = 1.0/t0\n",
    "input_shape = (1,5,5)\n",
    "filter_shape = (1,1,3,3)\n",
    "\n",
    "\n",
    "\n",
    "actWt = [.1, 1] #leakyRelU: first number is slope left of origin, second number is slope right of origin\n",
    "\n",
    "rng = np.random.default_rng(42)\n",
    "uIn = rng.random(input_shape, dtype=np.float32)\n",
    "iFilt = rng.random((t1,*filter_shape), dtype=np.float32)\n",
    "paramFilt = rng.random((t1,t1,*filter_shape), dtype=np.float32)\n",
    "biasVec = rng.random((t1,1), dtype=np.float32)\n",
    "\n",
    "#xOut, uOut = uSoln(uIn, dt, iFilt, paramFilt, biasVec)\n",
    "#print(xOut)"
   ]
  },
  {
   "cell_type": "code",
   "execution_count": 5,
   "metadata": {},
   "outputs": [
    {
     "name": "stdout",
     "output_type": "stream",
     "text": [
      "tf.Tensor(\n",
      "[[[[[ 0.5149827   1.2764959   1.1055958   0.9759438   0.48584086]\n",
      "    [ 1.6816992   2.3455856   2.2812831   2.1016786   0.84754264]\n",
      "    [ 1.4462036   2.5093234   2.2971082   2.0258262   1.1332246 ]\n",
      "    [ 1.8460461   2.300061    2.8805401   2.5757613   1.7191321 ]\n",
      "    [ 1.1274791   1.3376107   1.773575    1.6535478   1.5739689 ]]]\n",
      "\n",
      "\n",
      "  [[[ 1.8183213   2.137969    2.526722    1.8751593   1.0164145 ]\n",
      "    [ 2.8927186   4.2703075   3.8896542   3.7959993   1.8713158 ]\n",
      "    [ 2.7698338   4.4808173   3.9417782   4.136777    2.268245  ]\n",
      "    [ 2.913106    3.7311845   4.747446    4.4243755   3.077777  ]\n",
      "    [ 1.4768031   2.3763497   3.1060374   2.426774    2.4768248 ]]]\n",
      "\n",
      "\n",
      "  [[[ 2.5133073   4.035907    3.9692717   3.5524368   2.1501262 ]\n",
      "    [ 4.1414165   6.1417      6.551713    5.583663    3.6007633 ]\n",
      "    [ 4.226528    7.424518    6.782687    6.510955    4.781315  ]\n",
      "    [ 4.5307074   6.1021676   6.6800737   6.9026937   5.1220803 ]\n",
      "    [ 2.7774005   3.6048331   4.821697    4.891281    3.5793529 ]]]\n",
      "\n",
      "\n",
      "  [[[ 3.3790355   6.205242    5.803327    5.18242     3.0910468 ]\n",
      "    [ 6.653158   10.172721   11.467411    9.664593    6.0780125 ]\n",
      "    [ 7.3902507  11.485644   12.4786415  11.179623    7.5026035 ]\n",
      "    [ 6.795619   10.379651   11.970451   11.75        7.9828653 ]\n",
      "    [ 4.312202    6.440333    7.3810153   7.62823     5.0627112 ]]]\n",
      "\n",
      "\n",
      "  [[[ 6.1374426  10.493166   11.234797    9.689138    5.919466  ]\n",
      "    [10.373369   17.44141    18.882524   16.128124    9.991322  ]\n",
      "    [12.252047   20.069754   21.736977   19.266914   12.032076  ]\n",
      "    [11.312893   17.47688    20.53436    18.998232   12.035688  ]\n",
      "    [ 6.926422   10.733285   12.949187   12.152102    7.62154   ]]]]], shape=(1, 5, 1, 5, 5), dtype=float32)\n"
     ]
    }
   ],
   "source": [
    "TFuIn = tf.expand_dims(tf.transpose(tf.convert_to_tensor(uIn, dtype=tf.float32), perm=[1,2,0]), 0)\n",
    "TFiFilt = tf.transpose(tf.convert_to_tensor(iFilt, dtype=tf.float32), perm=[0,3,4,1,2])\n",
    "TFpFilt = tf.transpose(tf.convert_to_tensor(paramFilt, dtype=tf.float32), perm=[0,1,4,5,2,3])\n",
    "TFbiasVec = tf.convert_to_tensor(biasVec, dtype=tf.float32)\n",
    "\n",
    "TFxOut, TFuOut = TFuSoln(TFuIn, dt, TFiFilt, TFpFilt, TFbiasVec)\n",
    "print(tf.transpose(TFxOut, perm=[4,0,1,2,3]))"
   ]
  },
  {
   "cell_type": "code",
   "execution_count": null,
   "metadata": {},
   "outputs": [],
   "source": []
  }
 ],
 "metadata": {
  "kernelspec": {
   "display_name": "Python 3",
   "language": "python",
   "name": "python3"
  },
  "language_info": {
   "codemirror_mode": {
    "name": "ipython",
    "version": 3
   },
   "file_extension": ".py",
   "mimetype": "text/x-python",
   "name": "python",
   "nbconvert_exporter": "python",
   "pygments_lexer": "ipython3",
   "version": "3.8.3"
  }
 },
 "nbformat": 4,
 "nbformat_minor": 4
}
