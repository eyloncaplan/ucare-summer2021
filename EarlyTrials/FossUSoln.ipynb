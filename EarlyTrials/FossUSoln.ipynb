{
 "cells": [
  {
   "cell_type": "code",
   "execution_count": 21,
   "metadata": {},
   "outputs": [],
   "source": [
    "import numpy as np\n",
    "import math\n",
    "import tensorflow as tf\n"
   ]
  },
  {
   "cell_type": "code",
   "execution_count": null,
   "metadata": {},
   "outputs": [],
   "source": []
  },
  {
   "cell_type": "code",
   "execution_count": 2,
   "metadata": {},
   "outputs": [],
   "source": [
    "def uSoln(u0, ds, inFilt, pFilt, b):\n",
    "    inChan, row, col = u0.shape\n",
    "    tMax, outChan = inFilt.shape[0], inFilt.shape[2]\n",
    "    u = np.zeros((tMax, outChan, row, col))\n",
    "    x = np.zeros((tMax, outChan, row, col))\n",
    "    # y=np.zeros((tMax,outChan,row,col))\n",
    "    bzero = np.zeros((outChan))\n",
    "    # print('outChan=',outChan,', u shape:',u.shape)\n",
    "\n",
    "    # print('inFilt shape=',inFilt.shape,', u0 shape:',u0.shape)\n",
    "    u[0] = conv(u0, inFilt[0], bzero)\n",
    "    # print('u0',u[0])\n",
    "    for h in range(tMax - 1):\n",
    "        # print('h=',h)\n",
    "        x[h] = act(u[h])\n",
    "        zInt = np.array([conv(x[s], pFilt[s, h], b[h] / ((h + 1) * ds)) for s in range(h + 1)])\n",
    "        z = trapInt(zInt, ds)\n",
    "        u[h + 1] = z + conv(u0, inFilt[h + 1], bzero)\n",
    "        # print('actU=',actU)\n",
    "        # print('y[',h,']=',y[h])\n",
    "    #        print('zInt=',zInt)\n",
    "    # print('z=',z)\n",
    "    # print('u[',h+1,']=',u[h+1])\n",
    "    x[tMax - 1] = act(u[tMax - 1])\n",
    "    return x, u"
   ]
  },
  {
   "cell_type": "code",
   "execution_count": 3,
   "metadata": {},
   "outputs": [],
   "source": [
    "def im2col(image, kerRow, kerCol, st):\n",
    "    \"\"\"\n",
    "    Returns:\n",
    "      col: (new_h*new_w,kerRow*KerCol*imageChan) matrix,\n",
    "            each column is a cube that will convolve with a filter\n",
    "            new_h=(imageRow-kerRow)//st+1, new_w=(imagrCol-kerCol)//st+1\n",
    "    \"\"\"\n",
    "\n",
    "    chan, row, col = image.shape\n",
    "    new_h = (row - kerRow) // st + 1\n",
    "    new_w = (col - kerCol) // st + 1\n",
    "    col = np.zeros([new_h * new_w, chan * kerRow * kerCol])\n",
    "\n",
    "    for i in range(new_h):\n",
    "        for j in range(new_w):\n",
    "            patch = image[..., i * st:i * st + kerRow, j * st:j * st + kerCol]\n",
    "            col[i * new_w + j, :] = np.reshape(patch, -1)\n",
    "    return col"
   ]
  },
  {
   "cell_type": "code",
   "execution_count": 4,
   "metadata": {},
   "outputs": [],
   "source": [
    "def mul(num):\n",
    "    p = 1\n",
    "    for m in num:\n",
    "        p *= m\n",
    "    # print('p=',p)\n",
    "    return p"
   ]
  },
  {
   "cell_type": "code",
   "execution_count": 5,
   "metadata": {},
   "outputs": [],
   "source": [
    "def col2im(ma, h_prime, w_prime, C):\n",
    "    \"\"\"\n",
    "      Args:\n",
    "      ma: (h_prime*w_prime*w,F) matrix, each col should be reshaped to C*h_prime*w_prime when C>0, or h_prime*w_prime when C = 0\n",
    "      h_prime: reshaped filter height\n",
    "      w_prime: reshaped filter width\n",
    "      C: reshaped filter channel, if 0, reshape the filter to 2D, Otherwise reshape it to 3D\n",
    "    Returns:\n",
    "      if C == 0: (F,h_prime,w_prime) matrix\n",
    "      Otherwise: (F,C,h_prime,w_prime) matrix\n",
    "    \"\"\"\n",
    "    F = ma.shape[1]\n",
    "    if (C == 1):\n",
    "        out = np.zeros([F, h_prime, w_prime])\n",
    "        for i in range(F):\n",
    "            col = ma[:, i]\n",
    "            out[i, :, :] = np.reshape(col, (h_prime, w_prime))\n",
    "    else:\n",
    "        out = np.zeros([F, C, h_prime, w_prime])\n",
    "        for i in range(F):\n",
    "            col = ma[:, i]\n",
    "            out[i, :, :] = np.reshape(col, (C, h_prime, w_prime))\n",
    "\n",
    "    return out"
   ]
  },
  {
   "cell_type": "code",
   "execution_count": 6,
   "metadata": {},
   "outputs": [],
   "source": [
    "def conv(image, filt, b, st=1):\n",
    "    imChan, imRow, imCol = image.shape\n",
    "    inChan, outChan, kerRow, kerCol = filt.shape\n",
    "    r = (imRow - 1) // st + 1\n",
    "    c = (imCol - 1) // st + 1\n",
    "    out = np.zeros((outChan, r, c))\n",
    "\n",
    "    imPad = np.pad(image, ((0, 0), ((kerRow - 1) // 2, (kerRow - 1) // 2),\n",
    "                           ((kerCol - 1) // 2, (kerCol - 1) // 2)))\n",
    "    imMat = im2col(imPad, kerRow, kerCol, st)\n",
    "    filtCol = np.reshape(filt, (outChan, -1))\n",
    "    outCol = imMat.dot(filtCol.T) + b\n",
    "    out = col2im(outCol, r, c, 1)\n",
    "    return out"
   ]
  },
  {
   "cell_type": "code",
   "execution_count": 7,
   "metadata": {},
   "outputs": [],
   "source": [
    "def act(layer):\n",
    "    chan, row, col = layer.shape\n",
    "    out = np.zeros((chan, row, col))\n",
    "\n",
    "    for c in range(chan):\n",
    "        for i in range(row):\n",
    "            for j in range(col):\n",
    "                if layer[c, i, j] >= 0:\n",
    "                    out[c, i, j] = actWt[1] * layer[c, i, j]\n",
    "                else:\n",
    "                    out[c, i, j] = actWt[0] * layer[c, i, j]\n",
    "    return out"
   ]
  },
  {
   "cell_type": "code",
   "execution_count": 8,
   "metadata": {},
   "outputs": [],
   "source": [
    "def actInv(layer):\n",
    "    chan, row, col = layer.shape\n",
    "    out = np.zeros((chan, row, col))\n",
    "\n",
    "    for c in range(chan):\n",
    "        for i in range(row):\n",
    "            for j in range(col):\n",
    "                if layer[c, i, j] >= 0:\n",
    "                    out[c, i, j] = layer[c, i, j] / actWt[1]\n",
    "                else:\n",
    "                    out[c, i, j] = layer[c, i, j] / actWt[0]\n",
    "    return out"
   ]
  },
  {
   "cell_type": "code",
   "execution_count": 9,
   "metadata": {},
   "outputs": [],
   "source": [
    "def actD(layer):\n",
    "    chan, row, col = layer.shape\n",
    "    out = np.zeros((chan, row, col))\n",
    "\n",
    "    for c in range(chan):\n",
    "        for i in range(row):\n",
    "            for j in range(col):\n",
    "                if layer[c, i, j] >= 0:\n",
    "                    out[c, i, j] = actWt[1]\n",
    "                else:\n",
    "                    out[c, i, j] = actWt[0]\n",
    "    return out"
   ]
  },
  {
   "cell_type": "code",
   "execution_count": 10,
   "metadata": {},
   "outputs": [],
   "source": [
    "def trapInt(vals, ds):\n",
    "    return ds / 2 * (np.sum(vals, axis=0) + np.sum(vals[1:-1], axis=0))\n",
    "    #trapezoidal rule: (1/2)*ds*(f(x_0) + 2f(x_1) + 2f(x_2) + ... + 2f(x_n-1) + f(x_n))"
   ]
  },
  {
   "cell_type": "code",
   "execution_count": 12,
   "metadata": {},
   "outputs": [],
   "source": [
    "def trapezoidIntegral(vals, ds):\n",
    "    pass1 = tf.reduce_sum(vals, axis=0)\n",
    "    pass2 = tf.reduce_sum(vals[1:-1], axis=0)\n",
    "    return ds/2.0*(pass1+pass2)\n",
    "def TFconv(image, filt, b):\n",
    "    return tf.nn.convolution(input=image, filters=filt, padding=\"SAME\") + b"
   ]
  },
  {
   "cell_type": "code",
   "execution_count": 40,
   "metadata": {},
   "outputs": [],
   "source": [
    "def TFuSoln(raw_u0, ds, inFilt, pFilt, b):\n",
    "    bzero = tf.zeros([inFilt.shape[4]])\n",
    "    u0 = TFconv(raw_u0, inFilt[0], bzero)\n",
    "    #for loop begins, h=0\n",
    "    x0 = tf.nn.leaky_relu(u0, alpha=0.1)\n",
    "    zInt0 = TFconv(x0, pFilt[0,0], b[0] / ((0+1)*ds))\n",
    "    z0 = trapezoidIntegral(zInt0, ds)\n",
    "    u1 = z0 + TFconv(raw_u0, inFilt[1], bzero)\n",
    "    #for loop begins, h=1\n",
    "    x1 = tf.nn.leaky_relu(u1, alpha=0.1)\n",
    "    zInt1_0 = TFconv(x0, pFilt[0,1], b[1] / ((1+1)*ds)) #s=0\n",
    "    zInt1_1 = TFconv(x1, pFilt[1,1], b[1] / ((1+1)*ds)) #s=1\n",
    "    zInt1 = zInt1_0 + zInt1_1\n",
    "    z1 = trapezoidIntegral(zInt1, ds)\n",
    "    u2 = z1 + TFconv(raw_u0, inFilt[2], bzero)\n",
    "    #for loop begins, h=2\n",
    "    x2 = tf.nn.leaky_relu(u2, alpha=0.1)\n",
    "    zInt2_0 = TFconv(x0, pFilt[0,2], b[2] / ((2+1)*ds)) #s=0\n",
    "    zInt2_1 = TFconv(x1, pFilt[1,2], b[2] / ((2+1)*ds)) #s=1\n",
    "    zInt2_2 = TFconv(x2, pFilt[2,2], b[2] / ((2+1)*ds)) #s=2\n",
    "    zInt2 = zInt2_0 + zInt2_1 + zInt2_2\n",
    "    z2 = trapezoidIntegral(zInt2, ds)\n",
    "    u3 = z2 + TFconv(raw_u0, inFilt[3], bzero)\n",
    "    #end loop\n",
    "    x3 = tf.nn.leaky_relu(u3, alpha=0.1)\n",
    "    \n",
    "    x = tf.stack([x0,x1,x2,x3])\n",
    "    u = tf.stack([u0,u1,u2,u3])\n",
    "    \n",
    "    return x,u\n"
   ]
  },
  {
   "cell_type": "code",
   "execution_count": 123,
   "metadata": {},
   "outputs": [
    {
     "name": "stdout",
     "output_type": "stream",
     "text": [
      "[[[[ 0.51498272  1.27649589  1.1055959   0.9759438   0.48584086]\n",
      "   [ 1.68169929  2.34558572  2.28128301  2.10167874  0.84754259]\n",
      "   [ 1.44620363  2.50932339  2.29710814  2.02582622  1.13322457]\n",
      "   [ 1.84604615  2.30006102  2.88054014  2.57576111  1.71913215]\n",
      "   [ 1.12747911  1.33761076  1.77357502  1.65354777  1.57396889]]]\n",
      "\n",
      "\n",
      " [[[ 1.78319511  2.11366493  2.54893388  1.83954434  0.95444824]\n",
      "   [ 3.07479777  4.54830764  4.20990784  3.93714221  1.89299125]\n",
      "   [ 3.12063286  4.94908808  4.44072544  4.42363938  2.3203553 ]\n",
      "   [ 3.24411366  4.27407309  5.25468194  4.79570856  3.13236746]\n",
      "   [ 1.74309188  2.85732423  3.57468866  2.82905223  2.5140795 ]]]\n",
      "\n",
      "\n",
      " [[[ 3.07593597  4.69323918  4.57032454  3.89175476  2.18694832]\n",
      "   [ 5.09171822  7.2259      7.67881208  6.26969443  3.80258487]\n",
      "   [ 5.33198863  8.91217132  8.35631047  7.55551793  5.15421687]\n",
      "   [ 5.48345957  7.45774054  8.10733055  8.01567449  5.49496459]\n",
      "   [ 3.25044943  4.46620158  5.68629134  5.64797824  3.85269012]]]\n",
      "\n",
      "\n",
      " [[[ 5.40840441  9.03358747  8.69372483  7.3412133   4.3709014 ]\n",
      "   [ 9.01208582 13.31888097 14.74364376 12.27276677  7.51029366]\n",
      "   [ 9.40383833 14.69267646 15.86998477 13.97240587  9.19828061]\n",
      "   [ 8.28418977 12.89083838 14.60426274 14.01583508  9.42938879]\n",
      "   [ 4.73378813  6.99728778  7.85634615  8.19810216  5.77510944]]]]\n"
     ]
    }
   ],
   "source": [
    "t0 = 3\n",
    "t1 = t0+1\n",
    "dt = 1.0/t0\n",
    "input_shape = (1,5,5)\n",
    "filter_shape = (1,1,3,3)\n",
    "\n",
    "\n",
    "\n",
    "#np.random.seed(42)\n",
    "actWt = [.1, 1] #leakyRelU: first number is slope left of origin, second number is slope right of origin\n",
    "\n",
    "rng = np.random.default_rng(42)\n",
    "uIn = rng.random(input_shape, dtype=np.float32)\n",
    "iFilt = rng.random((t1,*filter_shape), dtype=np.float32)\n",
    "paramFilt = rng.random((t1,t1,*filter_shape), dtype=np.float32)\n",
    "biasVec = rng.random((t1,1), dtype=np.float32)\n",
    "\n",
    "xOut, uOut = uSoln(uIn, dt, iFilt, paramFilt, biasVec)\n",
    "print(xOut)"
   ]
  },
  {
   "cell_type": "code",
   "execution_count": 124,
   "metadata": {},
   "outputs": [
    {
     "name": "stdout",
     "output_type": "stream",
     "text": [
      "tf.Tensor(\n",
      "[[[[[ 0.5149827   1.2764959   1.1055958   0.9759438   0.48584086]\n",
      "    [ 1.6816992   2.3455856   2.2812831   2.1016786   0.84754264]\n",
      "    [ 1.4462036   2.5093234   2.2971082   2.0258262   1.1332246 ]\n",
      "    [ 1.8460461   2.300061    2.8805401   2.5757613   1.7191321 ]\n",
      "    [ 1.1274791   1.3376107   1.773575    1.6535478   1.5739689 ]]]\n",
      "\n",
      "\n",
      "  [[[ 1.7831951   2.1136649   2.548934    1.8395444   0.9544482 ]\n",
      "    [ 3.0747976   4.548308    4.209908    3.9371424   1.8929913 ]\n",
      "    [ 3.1206326   4.949088    4.4407253   4.4236393   2.3203554 ]\n",
      "    [ 3.2441137   4.274073    5.2546816   4.7957087   3.1323674 ]\n",
      "    [ 1.7430918   2.8573241   3.5746884   2.8290522   2.5140796 ]]]\n",
      "\n",
      "\n",
      "  [[[ 3.0759358   4.693239    4.570325    3.891755    2.1869485 ]\n",
      "    [ 5.0917187   7.2258997   7.678812    6.2696943   3.8025851 ]\n",
      "    [ 5.3319883   8.912171    8.356311    7.555518    5.154217  ]\n",
      "    [ 5.4834595   7.457741    8.10733     8.015675    5.4949646 ]\n",
      "    [ 3.2504497   4.466202    5.6862917   5.6479783   3.8526902 ]]]\n",
      "\n",
      "\n",
      "  [[[ 4.3654833   7.4028277   6.9872885   5.923307    3.4708202 ]\n",
      "    [ 7.669338   11.158619   12.3851385  10.290491    6.22537   ]\n",
      "    [ 8.005634   12.325686   13.122268   11.552736    7.550619  ]\n",
      "    [ 7.1984205  10.91348    12.286085   11.9116125   7.988759  ]\n",
      "    [ 4.2099023   5.991503    6.7528863   7.051256    4.975805  ]]]]], shape=(1, 4, 1, 5, 5), dtype=float32)\n"
     ]
    }
   ],
   "source": [
    "#TFuIn = tf.transpose()\n",
    "TFuIn = tf.expand_dims(tf.transpose(tf.convert_to_tensor(uIn, dtype=tf.float32), perm=[1,2,0]), 0)\n",
    "TFiFilt = tf.transpose(tf.convert_to_tensor(iFilt, dtype=tf.float32), perm=[0,3,4,1,2])\n",
    "TFpFilt = tf.transpose(tf.convert_to_tensor(paramFilt, dtype=tf.float32), perm=[0,1,4,5,2,3])\n",
    "TFbiasVec = tf.convert_to_tensor(biasVec, dtype=tf.float32)\n",
    "\n",
    "TFxOut, TFuOut = TFuSoln(TFuIn, dt, TFiFilt, TFpFilt, TFbiasVec)\n",
    "print(tf.transpose(TFxOut, perm=[4,0,1,2,3]))\n"
   ]
  },
  {
   "cell_type": "code",
   "execution_count": null,
   "metadata": {},
   "outputs": [],
   "source": []
  },
  {
   "cell_type": "code",
   "execution_count": null,
   "metadata": {},
   "outputs": [],
   "source": []
  }
 ],
 "metadata": {
  "kernelspec": {
   "display_name": "Python 3",
   "language": "python",
   "name": "python3"
  },
  "language_info": {
   "codemirror_mode": {
    "name": "ipython",
    "version": 3
   },
   "file_extension": ".py",
   "mimetype": "text/x-python",
   "name": "python",
   "nbconvert_exporter": "python",
   "pygments_lexer": "ipython3",
   "version": "3.8.3"
  }
 },
 "nbformat": 4,
 "nbformat_minor": 4
}
